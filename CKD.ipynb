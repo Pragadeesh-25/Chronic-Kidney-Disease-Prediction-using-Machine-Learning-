{
 "cells": [
  {
   "cell_type": "code",
   "execution_count": null,
   "id": "Fo7TZAyOY4tp",
   "metadata": {
    "id": "Fo7TZAyOY4tp"
   },
   "outputs": [],
   "source": [
    "from google.colab import drive"
   ]
  },
  {
   "cell_type": "code",
   "execution_count": null,
   "id": "R4Tw4qsKY4hn",
   "metadata": {
    "colab": {
     "base_uri": "https://localhost:8080/"
    },
    "id": "R4Tw4qsKY4hn",
    "outputId": "48476695-3bc8-47dc-8e86-03692b12c902"
   },
   "outputs": [
    {
     "name": "stdout",
     "output_type": "stream",
     "text": [
      "Drive already mounted at /content/drive/; to attempt to forcibly remount, call drive.mount(\"/content/drive/\", force_remount=True).\n"
     ]
    }
   ],
   "source": [
    "drive.mount('/content/drive/')"
   ]
  },
  {
   "cell_type": "markdown",
   "id": "_EjHekF-PY-6",
   "metadata": {
    "id": "_EjHekF-PY-6"
   },
   "source": [
    "# Importing the libraries"
   ]
  },
  {
   "cell_type": "code",
   "execution_count": null,
   "id": "bmoxPi4NbQRj",
   "metadata": {
    "colab": {
     "base_uri": "https://localhost:8080/"
    },
    "id": "bmoxPi4NbQRj",
    "outputId": "927cf2b5-5806-4ece-d7fa-2c6e6f95329f"
   },
   "outputs": [
    {
     "name": "stdout",
     "output_type": "stream",
     "text": [
      "Requirement already satisfied: boruta in /usr/local/lib/python3.10/dist-packages (0.3)\n",
      "Requirement already satisfied: numpy>=1.10.4 in /usr/local/lib/python3.10/dist-packages (from boruta) (1.22.4)\n",
      "Requirement already satisfied: scikit-learn>=0.17.1 in /usr/local/lib/python3.10/dist-packages (from boruta) (1.2.2)\n",
      "Requirement already satisfied: scipy>=0.17.0 in /usr/local/lib/python3.10/dist-packages (from boruta) (1.10.1)\n",
      "Requirement already satisfied: joblib>=1.1.1 in /usr/local/lib/python3.10/dist-packages (from scikit-learn>=0.17.1->boruta) (1.2.0)\n",
      "Requirement already satisfied: threadpoolctl>=2.0.0 in /usr/local/lib/python3.10/dist-packages (from scikit-learn>=0.17.1->boruta) (3.1.0)\n"
     ]
    }
   ],
   "source": [
    "!pip install boruta"
   ]
  },
  {
   "cell_type": "code",
   "execution_count": null,
   "id": "6aafc2d7-c8d2-478d-9baf-70a2c4444f81",
   "metadata": {
    "id": "6aafc2d7-c8d2-478d-9baf-70a2c4444f81",
    "tags": []
   },
   "outputs": [],
   "source": [
    "import pandas as pd\n",
    "import seaborn as sp\n",
    "import numpy as np\n",
    "import random\n",
    "import matplotlib.pyplot as plt\n",
    "from sklearn.preprocessing import LabelEncoder\n",
    "from imblearn.over_sampling import SMOTE\n",
    "from sklearn.model_selection import KFold\n",
    "from sklearn.metrics import accuracy_score\n",
    "from sklearn.model_selection import cross_val_score\n",
    "from sklearn.ensemble import RandomForestClassifier\n",
    "from sklearn.tree import DecisionTreeClassifier\n",
    "from sklearn.neighbors import KNeighborsClassifier\n",
    "from sklearn.linear_model import LogisticRegression\n",
    "from sklearn.naive_bayes import GaussianNB\n",
    "from sklearn.metrics import confusion_matrix\n",
    "from sklearn.metrics import roc_curve\n",
    "from sklearn.model_selection import train_test_split\n",
    "from sklearn.svm import SVC\n",
    "from sklearn.impute import KNNImputer\n",
    "from boruta import BorutaPy\n",
    "import matplotlib.pyplot as plt"
   ]
  },
  {
   "cell_type": "markdown",
   "id": "N4mnafDrtr-l",
   "metadata": {
    "id": "N4mnafDrtr-l"
   },
   "source": [
    "# Importing the dataset"
   ]
  },
  {
   "cell_type": "code",
   "execution_count": null,
   "id": "7899440a-132f-45eb-9590-58f30c6db117",
   "metadata": {
    "colab": {
     "base_uri": "https://localhost:8080/"
    },
    "id": "7899440a-132f-45eb-9590-58f30c6db117",
    "outputId": "9f4f3b97-b2e6-42a0-c940-84ff170fcf2b",
    "tags": []
   },
   "outputs": [
    {
     "data": {
      "text/html": [
       "\n",
       "  <div id=\"df-7c0aedf3-f765-455c-b660-257746b2e386\">\n",
       "    <div class=\"colab-df-container\">\n",
       "      <div>\n",
       "<style scoped>\n",
       "    .dataframe tbody tr th:only-of-type {\n",
       "        vertical-align: middle;\n",
       "    }\n",
       "\n",
       "    .dataframe tbody tr th {\n",
       "        vertical-align: top;\n",
       "    }\n",
       "\n",
       "    .dataframe thead th {\n",
       "        text-align: right;\n",
       "    }\n",
       "</style>\n",
       "<table border=\"1\" class=\"dataframe\">\n",
       "  <thead>\n",
       "    <tr style=\"text-align: right;\">\n",
       "      <th></th>\n",
       "      <th>id</th>\n",
       "      <th>age</th>\n",
       "      <th>bp</th>\n",
       "      <th>sg</th>\n",
       "      <th>al</th>\n",
       "      <th>su</th>\n",
       "      <th>rbc</th>\n",
       "      <th>pc</th>\n",
       "      <th>pcc</th>\n",
       "      <th>ba</th>\n",
       "      <th>...</th>\n",
       "      <th>pcv</th>\n",
       "      <th>wc</th>\n",
       "      <th>rc</th>\n",
       "      <th>htn</th>\n",
       "      <th>dm</th>\n",
       "      <th>cad</th>\n",
       "      <th>appet</th>\n",
       "      <th>pe</th>\n",
       "      <th>ane</th>\n",
       "      <th>classification</th>\n",
       "    </tr>\n",
       "  </thead>\n",
       "  <tbody>\n",
       "    <tr>\n",
       "      <th>0</th>\n",
       "      <td>0</td>\n",
       "      <td>48.0</td>\n",
       "      <td>80.0</td>\n",
       "      <td>1.020</td>\n",
       "      <td>1.0</td>\n",
       "      <td>0.0</td>\n",
       "      <td>NaN</td>\n",
       "      <td>normal</td>\n",
       "      <td>notpresent</td>\n",
       "      <td>notpresent</td>\n",
       "      <td>...</td>\n",
       "      <td>44</td>\n",
       "      <td>7800</td>\n",
       "      <td>5.2</td>\n",
       "      <td>yes</td>\n",
       "      <td>yes</td>\n",
       "      <td>no</td>\n",
       "      <td>good</td>\n",
       "      <td>no</td>\n",
       "      <td>no</td>\n",
       "      <td>ckd</td>\n",
       "    </tr>\n",
       "    <tr>\n",
       "      <th>1</th>\n",
       "      <td>1</td>\n",
       "      <td>7.0</td>\n",
       "      <td>50.0</td>\n",
       "      <td>1.020</td>\n",
       "      <td>4.0</td>\n",
       "      <td>0.0</td>\n",
       "      <td>NaN</td>\n",
       "      <td>normal</td>\n",
       "      <td>notpresent</td>\n",
       "      <td>notpresent</td>\n",
       "      <td>...</td>\n",
       "      <td>38</td>\n",
       "      <td>6000</td>\n",
       "      <td>NaN</td>\n",
       "      <td>no</td>\n",
       "      <td>no</td>\n",
       "      <td>no</td>\n",
       "      <td>good</td>\n",
       "      <td>no</td>\n",
       "      <td>no</td>\n",
       "      <td>ckd</td>\n",
       "    </tr>\n",
       "    <tr>\n",
       "      <th>2</th>\n",
       "      <td>2</td>\n",
       "      <td>62.0</td>\n",
       "      <td>80.0</td>\n",
       "      <td>1.010</td>\n",
       "      <td>2.0</td>\n",
       "      <td>3.0</td>\n",
       "      <td>normal</td>\n",
       "      <td>normal</td>\n",
       "      <td>notpresent</td>\n",
       "      <td>notpresent</td>\n",
       "      <td>...</td>\n",
       "      <td>31</td>\n",
       "      <td>7500</td>\n",
       "      <td>NaN</td>\n",
       "      <td>no</td>\n",
       "      <td>yes</td>\n",
       "      <td>no</td>\n",
       "      <td>poor</td>\n",
       "      <td>no</td>\n",
       "      <td>yes</td>\n",
       "      <td>ckd</td>\n",
       "    </tr>\n",
       "    <tr>\n",
       "      <th>3</th>\n",
       "      <td>3</td>\n",
       "      <td>48.0</td>\n",
       "      <td>70.0</td>\n",
       "      <td>1.005</td>\n",
       "      <td>4.0</td>\n",
       "      <td>0.0</td>\n",
       "      <td>normal</td>\n",
       "      <td>abnormal</td>\n",
       "      <td>present</td>\n",
       "      <td>notpresent</td>\n",
       "      <td>...</td>\n",
       "      <td>32</td>\n",
       "      <td>6700</td>\n",
       "      <td>3.9</td>\n",
       "      <td>yes</td>\n",
       "      <td>no</td>\n",
       "      <td>no</td>\n",
       "      <td>poor</td>\n",
       "      <td>yes</td>\n",
       "      <td>yes</td>\n",
       "      <td>ckd</td>\n",
       "    </tr>\n",
       "    <tr>\n",
       "      <th>4</th>\n",
       "      <td>4</td>\n",
       "      <td>51.0</td>\n",
       "      <td>80.0</td>\n",
       "      <td>1.010</td>\n",
       "      <td>2.0</td>\n",
       "      <td>0.0</td>\n",
       "      <td>normal</td>\n",
       "      <td>normal</td>\n",
       "      <td>notpresent</td>\n",
       "      <td>notpresent</td>\n",
       "      <td>...</td>\n",
       "      <td>35</td>\n",
       "      <td>7300</td>\n",
       "      <td>4.6</td>\n",
       "      <td>no</td>\n",
       "      <td>no</td>\n",
       "      <td>no</td>\n",
       "      <td>good</td>\n",
       "      <td>no</td>\n",
       "      <td>no</td>\n",
       "      <td>ckd</td>\n",
       "    </tr>\n",
       "  </tbody>\n",
       "</table>\n",
       "<p>5 rows × 26 columns</p>\n",
       "</div>\n",
       "      <button class=\"colab-df-convert\" onclick=\"convertToInteractive('df-7c0aedf3-f765-455c-b660-257746b2e386')\"\n",
       "              title=\"Convert this dataframe to an interactive table.\"\n",
       "              style=\"display:none;\">\n",
       "        \n",
       "  <svg xmlns=\"http://www.w3.org/2000/svg\" height=\"24px\"viewBox=\"0 0 24 24\"\n",
       "       width=\"24px\">\n",
       "    <path d=\"M0 0h24v24H0V0z\" fill=\"none\"/>\n",
       "    <path d=\"M18.56 5.44l.94 2.06.94-2.06 2.06-.94-2.06-.94-.94-2.06-.94 2.06-2.06.94zm-11 1L8.5 8.5l.94-2.06 2.06-.94-2.06-.94L8.5 2.5l-.94 2.06-2.06.94zm10 10l.94 2.06.94-2.06 2.06-.94-2.06-.94-.94-2.06-.94 2.06-2.06.94z\"/><path d=\"M17.41 7.96l-1.37-1.37c-.4-.4-.92-.59-1.43-.59-.52 0-1.04.2-1.43.59L10.3 9.45l-7.72 7.72c-.78.78-.78 2.05 0 2.83L4 21.41c.39.39.9.59 1.41.59.51 0 1.02-.2 1.41-.59l7.78-7.78 2.81-2.81c.8-.78.8-2.07 0-2.86zM5.41 20L4 18.59l7.72-7.72 1.47 1.35L5.41 20z\"/>\n",
       "  </svg>\n",
       "      </button>\n",
       "      \n",
       "  <style>\n",
       "    .colab-df-container {\n",
       "      display:flex;\n",
       "      flex-wrap:wrap;\n",
       "      gap: 12px;\n",
       "    }\n",
       "\n",
       "    .colab-df-convert {\n",
       "      background-color: #E8F0FE;\n",
       "      border: none;\n",
       "      border-radius: 50%;\n",
       "      cursor: pointer;\n",
       "      display: none;\n",
       "      fill: #1967D2;\n",
       "      height: 32px;\n",
       "      padding: 0 0 0 0;\n",
       "      width: 32px;\n",
       "    }\n",
       "\n",
       "    .colab-df-convert:hover {\n",
       "      background-color: #E2EBFA;\n",
       "      box-shadow: 0px 1px 2px rgba(60, 64, 67, 0.3), 0px 1px 3px 1px rgba(60, 64, 67, 0.15);\n",
       "      fill: #174EA6;\n",
       "    }\n",
       "\n",
       "    [theme=dark] .colab-df-convert {\n",
       "      background-color: #3B4455;\n",
       "      fill: #D2E3FC;\n",
       "    }\n",
       "\n",
       "    [theme=dark] .colab-df-convert:hover {\n",
       "      background-color: #434B5C;\n",
       "      box-shadow: 0px 1px 3px 1px rgba(0, 0, 0, 0.15);\n",
       "      filter: drop-shadow(0px 1px 2px rgba(0, 0, 0, 0.3));\n",
       "      fill: #FFFFFF;\n",
       "    }\n",
       "  </style>\n",
       "\n",
       "      <script>\n",
       "        const buttonEl =\n",
       "          document.querySelector('#df-7c0aedf3-f765-455c-b660-257746b2e386 button.colab-df-convert');\n",
       "        buttonEl.style.display =\n",
       "          google.colab.kernel.accessAllowed ? 'block' : 'none';\n",
       "\n",
       "        async function convertToInteractive(key) {\n",
       "          const element = document.querySelector('#df-7c0aedf3-f765-455c-b660-257746b2e386');\n",
       "          const dataTable =\n",
       "            await google.colab.kernel.invokeFunction('convertToInteractive',\n",
       "                                                     [key], {});\n",
       "          if (!dataTable) return;\n",
       "\n",
       "          const docLinkHtml = 'Like what you see? Visit the ' +\n",
       "            '<a target=\"_blank\" href=https://colab.research.google.com/notebooks/data_table.ipynb>data table notebook</a>'\n",
       "            + ' to learn more about interactive tables.';\n",
       "          element.innerHTML = '';\n",
       "          dataTable['output_type'] = 'display_data';\n",
       "          await google.colab.output.renderOutput(dataTable, element);\n",
       "          const docLink = document.createElement('div');\n",
       "          docLink.innerHTML = docLinkHtml;\n",
       "          element.appendChild(docLink);\n",
       "        }\n",
       "      </script>\n",
       "    </div>\n",
       "  </div>\n",
       "  "
      ],
      "text/plain": [
       "   id   age    bp     sg   al   su     rbc        pc         pcc          ba  \\\n",
       "0   0  48.0  80.0  1.020  1.0  0.0     NaN    normal  notpresent  notpresent   \n",
       "1   1   7.0  50.0  1.020  4.0  0.0     NaN    normal  notpresent  notpresent   \n",
       "2   2  62.0  80.0  1.010  2.0  3.0  normal    normal  notpresent  notpresent   \n",
       "3   3  48.0  70.0  1.005  4.0  0.0  normal  abnormal     present  notpresent   \n",
       "4   4  51.0  80.0  1.010  2.0  0.0  normal    normal  notpresent  notpresent   \n",
       "\n",
       "   ...  pcv    wc   rc  htn   dm  cad appet   pe  ane classification  \n",
       "0  ...   44  7800  5.2  yes  yes   no  good   no   no            ckd  \n",
       "1  ...   38  6000  NaN   no   no   no  good   no   no            ckd  \n",
       "2  ...   31  7500  NaN   no  yes   no  poor   no  yes            ckd  \n",
       "3  ...   32  6700  3.9  yes   no   no  poor  yes  yes            ckd  \n",
       "4  ...   35  7300  4.6   no   no   no  good   no   no            ckd  \n",
       "\n",
       "[5 rows x 26 columns]"
      ]
     },
     "execution_count": 289,
     "metadata": {},
     "output_type": "execute_result"
    }
   ],
   "source": [
    "ckd = pd.read_csv('/content/drive/MyDrive/Mini - Project/Dataset/kidney_disease.csv')\n",
    "ckd.head()"
   ]
  },
  {
   "cell_type": "code",
   "execution_count": null,
   "id": "95ac068e-db48-4a32-b45e-b73711e2ff83",
   "metadata": {
    "colab": {
     "base_uri": "https://localhost:8080/"
    },
    "id": "95ac068e-db48-4a32-b45e-b73711e2ff83",
    "outputId": "affbf7e3-b480-411e-ef3b-ff5baeb778fd",
    "tags": []
   },
   "outputs": [
    {
     "name": "stdout",
     "output_type": "stream",
     "text": [
      "<class 'pandas.core.frame.DataFrame'>\n",
      "RangeIndex: 400 entries, 0 to 399\n",
      "Data columns (total 26 columns):\n",
      " #   Column          Non-Null Count  Dtype  \n",
      "---  ------          --------------  -----  \n",
      " 0   id              400 non-null    int64  \n",
      " 1   age             391 non-null    float64\n",
      " 2   bp              388 non-null    float64\n",
      " 3   sg              353 non-null    float64\n",
      " 4   al              354 non-null    float64\n",
      " 5   su              351 non-null    float64\n",
      " 6   rbc             248 non-null    object \n",
      " 7   pc              335 non-null    object \n",
      " 8   pcc             396 non-null    object \n",
      " 9   ba              396 non-null    object \n",
      " 10  bgr             356 non-null    float64\n",
      " 11  bu              381 non-null    float64\n",
      " 12  sc              383 non-null    float64\n",
      " 13  sod             313 non-null    float64\n",
      " 14  pot             312 non-null    float64\n",
      " 15  hemo            348 non-null    float64\n",
      " 16  pcv             330 non-null    object \n",
      " 17  wc              295 non-null    object \n",
      " 18  rc              270 non-null    object \n",
      " 19  htn             398 non-null    object \n",
      " 20  dm              398 non-null    object \n",
      " 21  cad             398 non-null    object \n",
      " 22  appet           399 non-null    object \n",
      " 23  pe              399 non-null    object \n",
      " 24  ane             399 non-null    object \n",
      " 25  classification  400 non-null    object \n",
      "dtypes: float64(11), int64(1), object(14)\n",
      "memory usage: 81.4+ KB\n"
     ]
    }
   ],
   "source": [
    "ckd.info()"
   ]
  },
  {
   "cell_type": "code",
   "execution_count": null,
   "id": "7b26ca52-ff40-46e6-b820-69f8e9c34940",
   "metadata": {
    "colab": {
     "base_uri": "https://localhost:8080/"
    },
    "id": "7b26ca52-ff40-46e6-b820-69f8e9c34940",
    "outputId": "16bbdd57-678e-467f-e04c-91b9feeacffa"
   },
   "outputs": [
    {
     "data": {
      "text/html": [
       "\n",
       "  <div id=\"df-fdf7c99f-5efa-461f-8755-87060cb2ca25\">\n",
       "    <div class=\"colab-df-container\">\n",
       "      <div>\n",
       "<style scoped>\n",
       "    .dataframe tbody tr th:only-of-type {\n",
       "        vertical-align: middle;\n",
       "    }\n",
       "\n",
       "    .dataframe tbody tr th {\n",
       "        vertical-align: top;\n",
       "    }\n",
       "\n",
       "    .dataframe thead th {\n",
       "        text-align: right;\n",
       "    }\n",
       "</style>\n",
       "<table border=\"1\" class=\"dataframe\">\n",
       "  <thead>\n",
       "    <tr style=\"text-align: right;\">\n",
       "      <th></th>\n",
       "      <th>id</th>\n",
       "      <th>age</th>\n",
       "      <th>bp</th>\n",
       "      <th>sg</th>\n",
       "      <th>al</th>\n",
       "      <th>su</th>\n",
       "      <th>rbc</th>\n",
       "      <th>pc</th>\n",
       "      <th>pcc</th>\n",
       "      <th>ba</th>\n",
       "      <th>...</th>\n",
       "      <th>pcv</th>\n",
       "      <th>wc</th>\n",
       "      <th>rc</th>\n",
       "      <th>htn</th>\n",
       "      <th>dm</th>\n",
       "      <th>cad</th>\n",
       "      <th>appet</th>\n",
       "      <th>pe</th>\n",
       "      <th>ane</th>\n",
       "      <th>classification</th>\n",
       "    </tr>\n",
       "  </thead>\n",
       "  <tbody>\n",
       "    <tr>\n",
       "      <th>0</th>\n",
       "      <td>0</td>\n",
       "      <td>48.0</td>\n",
       "      <td>80.0</td>\n",
       "      <td>1.020</td>\n",
       "      <td>1.0</td>\n",
       "      <td>0.0</td>\n",
       "      <td>NaN</td>\n",
       "      <td>normal</td>\n",
       "      <td>notpresent</td>\n",
       "      <td>notpresent</td>\n",
       "      <td>...</td>\n",
       "      <td>44</td>\n",
       "      <td>7800</td>\n",
       "      <td>5.2</td>\n",
       "      <td>yes</td>\n",
       "      <td>yes</td>\n",
       "      <td>no</td>\n",
       "      <td>good</td>\n",
       "      <td>no</td>\n",
       "      <td>no</td>\n",
       "      <td>ckd</td>\n",
       "    </tr>\n",
       "    <tr>\n",
       "      <th>1</th>\n",
       "      <td>1</td>\n",
       "      <td>7.0</td>\n",
       "      <td>50.0</td>\n",
       "      <td>1.020</td>\n",
       "      <td>4.0</td>\n",
       "      <td>0.0</td>\n",
       "      <td>NaN</td>\n",
       "      <td>normal</td>\n",
       "      <td>notpresent</td>\n",
       "      <td>notpresent</td>\n",
       "      <td>...</td>\n",
       "      <td>38</td>\n",
       "      <td>6000</td>\n",
       "      <td>NaN</td>\n",
       "      <td>no</td>\n",
       "      <td>no</td>\n",
       "      <td>no</td>\n",
       "      <td>good</td>\n",
       "      <td>no</td>\n",
       "      <td>no</td>\n",
       "      <td>ckd</td>\n",
       "    </tr>\n",
       "    <tr>\n",
       "      <th>2</th>\n",
       "      <td>2</td>\n",
       "      <td>62.0</td>\n",
       "      <td>80.0</td>\n",
       "      <td>1.010</td>\n",
       "      <td>2.0</td>\n",
       "      <td>3.0</td>\n",
       "      <td>normal</td>\n",
       "      <td>normal</td>\n",
       "      <td>notpresent</td>\n",
       "      <td>notpresent</td>\n",
       "      <td>...</td>\n",
       "      <td>31</td>\n",
       "      <td>7500</td>\n",
       "      <td>NaN</td>\n",
       "      <td>no</td>\n",
       "      <td>yes</td>\n",
       "      <td>no</td>\n",
       "      <td>poor</td>\n",
       "      <td>no</td>\n",
       "      <td>yes</td>\n",
       "      <td>ckd</td>\n",
       "    </tr>\n",
       "    <tr>\n",
       "      <th>3</th>\n",
       "      <td>3</td>\n",
       "      <td>48.0</td>\n",
       "      <td>70.0</td>\n",
       "      <td>1.005</td>\n",
       "      <td>4.0</td>\n",
       "      <td>0.0</td>\n",
       "      <td>normal</td>\n",
       "      <td>abnormal</td>\n",
       "      <td>present</td>\n",
       "      <td>notpresent</td>\n",
       "      <td>...</td>\n",
       "      <td>32</td>\n",
       "      <td>6700</td>\n",
       "      <td>3.9</td>\n",
       "      <td>yes</td>\n",
       "      <td>no</td>\n",
       "      <td>no</td>\n",
       "      <td>poor</td>\n",
       "      <td>yes</td>\n",
       "      <td>yes</td>\n",
       "      <td>ckd</td>\n",
       "    </tr>\n",
       "    <tr>\n",
       "      <th>4</th>\n",
       "      <td>4</td>\n",
       "      <td>51.0</td>\n",
       "      <td>80.0</td>\n",
       "      <td>1.010</td>\n",
       "      <td>2.0</td>\n",
       "      <td>0.0</td>\n",
       "      <td>normal</td>\n",
       "      <td>normal</td>\n",
       "      <td>notpresent</td>\n",
       "      <td>notpresent</td>\n",
       "      <td>...</td>\n",
       "      <td>35</td>\n",
       "      <td>7300</td>\n",
       "      <td>4.6</td>\n",
       "      <td>no</td>\n",
       "      <td>no</td>\n",
       "      <td>no</td>\n",
       "      <td>good</td>\n",
       "      <td>no</td>\n",
       "      <td>no</td>\n",
       "      <td>ckd</td>\n",
       "    </tr>\n",
       "    <tr>\n",
       "      <th>...</th>\n",
       "      <td>...</td>\n",
       "      <td>...</td>\n",
       "      <td>...</td>\n",
       "      <td>...</td>\n",
       "      <td>...</td>\n",
       "      <td>...</td>\n",
       "      <td>...</td>\n",
       "      <td>...</td>\n",
       "      <td>...</td>\n",
       "      <td>...</td>\n",
       "      <td>...</td>\n",
       "      <td>...</td>\n",
       "      <td>...</td>\n",
       "      <td>...</td>\n",
       "      <td>...</td>\n",
       "      <td>...</td>\n",
       "      <td>...</td>\n",
       "      <td>...</td>\n",
       "      <td>...</td>\n",
       "      <td>...</td>\n",
       "      <td>...</td>\n",
       "    </tr>\n",
       "    <tr>\n",
       "      <th>395</th>\n",
       "      <td>395</td>\n",
       "      <td>55.0</td>\n",
       "      <td>80.0</td>\n",
       "      <td>1.020</td>\n",
       "      <td>0.0</td>\n",
       "      <td>0.0</td>\n",
       "      <td>normal</td>\n",
       "      <td>normal</td>\n",
       "      <td>notpresent</td>\n",
       "      <td>notpresent</td>\n",
       "      <td>...</td>\n",
       "      <td>47</td>\n",
       "      <td>6700</td>\n",
       "      <td>4.9</td>\n",
       "      <td>no</td>\n",
       "      <td>no</td>\n",
       "      <td>no</td>\n",
       "      <td>good</td>\n",
       "      <td>no</td>\n",
       "      <td>no</td>\n",
       "      <td>notckd</td>\n",
       "    </tr>\n",
       "    <tr>\n",
       "      <th>396</th>\n",
       "      <td>396</td>\n",
       "      <td>42.0</td>\n",
       "      <td>70.0</td>\n",
       "      <td>1.025</td>\n",
       "      <td>0.0</td>\n",
       "      <td>0.0</td>\n",
       "      <td>normal</td>\n",
       "      <td>normal</td>\n",
       "      <td>notpresent</td>\n",
       "      <td>notpresent</td>\n",
       "      <td>...</td>\n",
       "      <td>54</td>\n",
       "      <td>7800</td>\n",
       "      <td>6.2</td>\n",
       "      <td>no</td>\n",
       "      <td>no</td>\n",
       "      <td>no</td>\n",
       "      <td>good</td>\n",
       "      <td>no</td>\n",
       "      <td>no</td>\n",
       "      <td>notckd</td>\n",
       "    </tr>\n",
       "    <tr>\n",
       "      <th>397</th>\n",
       "      <td>397</td>\n",
       "      <td>12.0</td>\n",
       "      <td>80.0</td>\n",
       "      <td>1.020</td>\n",
       "      <td>0.0</td>\n",
       "      <td>0.0</td>\n",
       "      <td>normal</td>\n",
       "      <td>normal</td>\n",
       "      <td>notpresent</td>\n",
       "      <td>notpresent</td>\n",
       "      <td>...</td>\n",
       "      <td>49</td>\n",
       "      <td>6600</td>\n",
       "      <td>5.4</td>\n",
       "      <td>no</td>\n",
       "      <td>no</td>\n",
       "      <td>no</td>\n",
       "      <td>good</td>\n",
       "      <td>no</td>\n",
       "      <td>no</td>\n",
       "      <td>notckd</td>\n",
       "    </tr>\n",
       "    <tr>\n",
       "      <th>398</th>\n",
       "      <td>398</td>\n",
       "      <td>17.0</td>\n",
       "      <td>60.0</td>\n",
       "      <td>1.025</td>\n",
       "      <td>0.0</td>\n",
       "      <td>0.0</td>\n",
       "      <td>normal</td>\n",
       "      <td>normal</td>\n",
       "      <td>notpresent</td>\n",
       "      <td>notpresent</td>\n",
       "      <td>...</td>\n",
       "      <td>51</td>\n",
       "      <td>7200</td>\n",
       "      <td>5.9</td>\n",
       "      <td>no</td>\n",
       "      <td>no</td>\n",
       "      <td>no</td>\n",
       "      <td>good</td>\n",
       "      <td>no</td>\n",
       "      <td>no</td>\n",
       "      <td>notckd</td>\n",
       "    </tr>\n",
       "    <tr>\n",
       "      <th>399</th>\n",
       "      <td>399</td>\n",
       "      <td>58.0</td>\n",
       "      <td>80.0</td>\n",
       "      <td>1.025</td>\n",
       "      <td>0.0</td>\n",
       "      <td>0.0</td>\n",
       "      <td>normal</td>\n",
       "      <td>normal</td>\n",
       "      <td>notpresent</td>\n",
       "      <td>notpresent</td>\n",
       "      <td>...</td>\n",
       "      <td>53</td>\n",
       "      <td>6800</td>\n",
       "      <td>6.1</td>\n",
       "      <td>no</td>\n",
       "      <td>no</td>\n",
       "      <td>no</td>\n",
       "      <td>good</td>\n",
       "      <td>no</td>\n",
       "      <td>no</td>\n",
       "      <td>notckd</td>\n",
       "    </tr>\n",
       "  </tbody>\n",
       "</table>\n",
       "<p>400 rows × 26 columns</p>\n",
       "</div>\n",
       "      <button class=\"colab-df-convert\" onclick=\"convertToInteractive('df-fdf7c99f-5efa-461f-8755-87060cb2ca25')\"\n",
       "              title=\"Convert this dataframe to an interactive table.\"\n",
       "              style=\"display:none;\">\n",
       "        \n",
       "  <svg xmlns=\"http://www.w3.org/2000/svg\" height=\"24px\"viewBox=\"0 0 24 24\"\n",
       "       width=\"24px\">\n",
       "    <path d=\"M0 0h24v24H0V0z\" fill=\"none\"/>\n",
       "    <path d=\"M18.56 5.44l.94 2.06.94-2.06 2.06-.94-2.06-.94-.94-2.06-.94 2.06-2.06.94zm-11 1L8.5 8.5l.94-2.06 2.06-.94-2.06-.94L8.5 2.5l-.94 2.06-2.06.94zm10 10l.94 2.06.94-2.06 2.06-.94-2.06-.94-.94-2.06-.94 2.06-2.06.94z\"/><path d=\"M17.41 7.96l-1.37-1.37c-.4-.4-.92-.59-1.43-.59-.52 0-1.04.2-1.43.59L10.3 9.45l-7.72 7.72c-.78.78-.78 2.05 0 2.83L4 21.41c.39.39.9.59 1.41.59.51 0 1.02-.2 1.41-.59l7.78-7.78 2.81-2.81c.8-.78.8-2.07 0-2.86zM5.41 20L4 18.59l7.72-7.72 1.47 1.35L5.41 20z\"/>\n",
       "  </svg>\n",
       "      </button>\n",
       "      \n",
       "  <style>\n",
       "    .colab-df-container {\n",
       "      display:flex;\n",
       "      flex-wrap:wrap;\n",
       "      gap: 12px;\n",
       "    }\n",
       "\n",
       "    .colab-df-convert {\n",
       "      background-color: #E8F0FE;\n",
       "      border: none;\n",
       "      border-radius: 50%;\n",
       "      cursor: pointer;\n",
       "      display: none;\n",
       "      fill: #1967D2;\n",
       "      height: 32px;\n",
       "      padding: 0 0 0 0;\n",
       "      width: 32px;\n",
       "    }\n",
       "\n",
       "    .colab-df-convert:hover {\n",
       "      background-color: #E2EBFA;\n",
       "      box-shadow: 0px 1px 2px rgba(60, 64, 67, 0.3), 0px 1px 3px 1px rgba(60, 64, 67, 0.15);\n",
       "      fill: #174EA6;\n",
       "    }\n",
       "\n",
       "    [theme=dark] .colab-df-convert {\n",
       "      background-color: #3B4455;\n",
       "      fill: #D2E3FC;\n",
       "    }\n",
       "\n",
       "    [theme=dark] .colab-df-convert:hover {\n",
       "      background-color: #434B5C;\n",
       "      box-shadow: 0px 1px 3px 1px rgba(0, 0, 0, 0.15);\n",
       "      filter: drop-shadow(0px 1px 2px rgba(0, 0, 0, 0.3));\n",
       "      fill: #FFFFFF;\n",
       "    }\n",
       "  </style>\n",
       "\n",
       "      <script>\n",
       "        const buttonEl =\n",
       "          document.querySelector('#df-fdf7c99f-5efa-461f-8755-87060cb2ca25 button.colab-df-convert');\n",
       "        buttonEl.style.display =\n",
       "          google.colab.kernel.accessAllowed ? 'block' : 'none';\n",
       "\n",
       "        async function convertToInteractive(key) {\n",
       "          const element = document.querySelector('#df-fdf7c99f-5efa-461f-8755-87060cb2ca25');\n",
       "          const dataTable =\n",
       "            await google.colab.kernel.invokeFunction('convertToInteractive',\n",
       "                                                     [key], {});\n",
       "          if (!dataTable) return;\n",
       "\n",
       "          const docLinkHtml = 'Like what you see? Visit the ' +\n",
       "            '<a target=\"_blank\" href=https://colab.research.google.com/notebooks/data_table.ipynb>data table notebook</a>'\n",
       "            + ' to learn more about interactive tables.';\n",
       "          element.innerHTML = '';\n",
       "          dataTable['output_type'] = 'display_data';\n",
       "          await google.colab.output.renderOutput(dataTable, element);\n",
       "          const docLink = document.createElement('div');\n",
       "          docLink.innerHTML = docLinkHtml;\n",
       "          element.appendChild(docLink);\n",
       "        }\n",
       "      </script>\n",
       "    </div>\n",
       "  </div>\n",
       "  "
      ],
      "text/plain": [
       "      id   age    bp     sg   al   su     rbc        pc         pcc  \\\n",
       "0      0  48.0  80.0  1.020  1.0  0.0     NaN    normal  notpresent   \n",
       "1      1   7.0  50.0  1.020  4.0  0.0     NaN    normal  notpresent   \n",
       "2      2  62.0  80.0  1.010  2.0  3.0  normal    normal  notpresent   \n",
       "3      3  48.0  70.0  1.005  4.0  0.0  normal  abnormal     present   \n",
       "4      4  51.0  80.0  1.010  2.0  0.0  normal    normal  notpresent   \n",
       "..   ...   ...   ...    ...  ...  ...     ...       ...         ...   \n",
       "395  395  55.0  80.0  1.020  0.0  0.0  normal    normal  notpresent   \n",
       "396  396  42.0  70.0  1.025  0.0  0.0  normal    normal  notpresent   \n",
       "397  397  12.0  80.0  1.020  0.0  0.0  normal    normal  notpresent   \n",
       "398  398  17.0  60.0  1.025  0.0  0.0  normal    normal  notpresent   \n",
       "399  399  58.0  80.0  1.025  0.0  0.0  normal    normal  notpresent   \n",
       "\n",
       "             ba  ...  pcv    wc   rc  htn   dm  cad appet   pe  ane  \\\n",
       "0    notpresent  ...   44  7800  5.2  yes  yes   no  good   no   no   \n",
       "1    notpresent  ...   38  6000  NaN   no   no   no  good   no   no   \n",
       "2    notpresent  ...   31  7500  NaN   no  yes   no  poor   no  yes   \n",
       "3    notpresent  ...   32  6700  3.9  yes   no   no  poor  yes  yes   \n",
       "4    notpresent  ...   35  7300  4.6   no   no   no  good   no   no   \n",
       "..          ...  ...  ...   ...  ...  ...  ...  ...   ...  ...  ...   \n",
       "395  notpresent  ...   47  6700  4.9   no   no   no  good   no   no   \n",
       "396  notpresent  ...   54  7800  6.2   no   no   no  good   no   no   \n",
       "397  notpresent  ...   49  6600  5.4   no   no   no  good   no   no   \n",
       "398  notpresent  ...   51  7200  5.9   no   no   no  good   no   no   \n",
       "399  notpresent  ...   53  6800  6.1   no   no   no  good   no   no   \n",
       "\n",
       "    classification  \n",
       "0              ckd  \n",
       "1              ckd  \n",
       "2              ckd  \n",
       "3              ckd  \n",
       "4              ckd  \n",
       "..             ...  \n",
       "395         notckd  \n",
       "396         notckd  \n",
       "397         notckd  \n",
       "398         notckd  \n",
       "399         notckd  \n",
       "\n",
       "[400 rows x 26 columns]"
      ]
     },
     "execution_count": 291,
     "metadata": {},
     "output_type": "execute_result"
    }
   ],
   "source": [
    "ckd"
   ]
  },
  {
   "cell_type": "markdown",
   "id": "17fd3d6a-849b-41f2-b073-d7b6401b8f95",
   "metadata": {
    "id": "17fd3d6a-849b-41f2-b073-d7b6401b8f95",
    "tags": []
   },
   "source": [
    "# DATA CLEANING"
   ]
  },
  {
   "cell_type": "code",
   "execution_count": null,
   "id": "e38b1988-e469-4916-9b9d-ea342c3b8658",
   "metadata": {
    "id": "e38b1988-e469-4916-9b9d-ea342c3b8658",
    "tags": []
   },
   "outputs": [],
   "source": [
    "ckd['age'].fillna(ckd['age'].median(), inplace = True)\n",
    "ckd['bp'].fillna(ckd['bp'].median(), inplace = True)\n",
    "ckd['sc'].fillna(ckd['sc'].median(), inplace = True)\n",
    "ckd['rbc'].fillna(ckd['rbc'].mode()[0], inplace = True)\n",
    "ckd['pc'].fillna(ckd['pc'].mode()[0], inplace = True)\n",
    "ckd['al'].fillna(ckd['al'].mode()[0], inplace = True)\n",
    "ckd['su'].fillna(ckd['su'].mode()[0], inplace = True)\n",
    "ckd['pcc'].fillna(ckd['pcc'].mode()[0], inplace = True)\n",
    "ckd['htn'].fillna(ckd['htn'].mode()[0], inplace = True)\n",
    "ckd['dm'].fillna(ckd['dm'].mode()[0], inplace = True)\n",
    "ckd['cad'].fillna(ckd['cad'].mode()[0], inplace = True)\n",
    "ckd['sg'].fillna(ckd['sg'].mode()[0], inplace = True)\n",
    "ckd['ba'].fillna(ckd['ba'].mode()[0], inplace = True)\n",
    "ckd['appet'].fillna(ckd['appet'].mode()[0], inplace = True)\n",
    "ckd['pe'].fillna(ckd['pe'].mode()[0], inplace = True)\n",
    "ckd['ane'].fillna(ckd['ane'].mode()[0], inplace = True)"
   ]
  },
  {
   "cell_type": "code",
   "execution_count": null,
   "id": "65410839-dd38-46ea-a1d1-917757e6f3b9",
   "metadata": {
    "colab": {
     "base_uri": "https://localhost:8080/"
    },
    "id": "65410839-dd38-46ea-a1d1-917757e6f3b9",
    "outputId": "4595d384-9a69-417c-94f1-25f9f2c03160",
    "tags": []
   },
   "outputs": [
    {
     "name": "stdout",
     "output_type": "stream",
     "text": [
      "<class 'pandas.core.frame.DataFrame'>\n",
      "RangeIndex: 400 entries, 0 to 399\n",
      "Data columns (total 26 columns):\n",
      " #   Column          Non-Null Count  Dtype  \n",
      "---  ------          --------------  -----  \n",
      " 0   id              400 non-null    int64  \n",
      " 1   age             400 non-null    float64\n",
      " 2   bp              400 non-null    float64\n",
      " 3   sg              400 non-null    float64\n",
      " 4   al              400 non-null    float64\n",
      " 5   su              400 non-null    float64\n",
      " 6   rbc             400 non-null    object \n",
      " 7   pc              400 non-null    object \n",
      " 8   pcc             400 non-null    object \n",
      " 9   ba              400 non-null    object \n",
      " 10  bgr             356 non-null    float64\n",
      " 11  bu              381 non-null    float64\n",
      " 12  sc              400 non-null    float64\n",
      " 13  sod             313 non-null    float64\n",
      " 14  pot             312 non-null    float64\n",
      " 15  hemo            348 non-null    float64\n",
      " 16  pcv             330 non-null    object \n",
      " 17  wc              295 non-null    object \n",
      " 18  rc              270 non-null    object \n",
      " 19  htn             400 non-null    object \n",
      " 20  dm              400 non-null    object \n",
      " 21  cad             400 non-null    object \n",
      " 22  appet           400 non-null    object \n",
      " 23  pe              400 non-null    object \n",
      " 24  ane             400 non-null    object \n",
      " 25  classification  400 non-null    object \n",
      "dtypes: float64(11), int64(1), object(14)\n",
      "memory usage: 81.4+ KB\n"
     ]
    }
   ],
   "source": [
    "ckd.info()"
   ]
  },
  {
   "cell_type": "markdown",
   "id": "9GPC-OlwdR2a",
   "metadata": {
    "id": "9GPC-OlwdR2a"
   },
   "source": [
    "## KNN Imputation"
   ]
  },
  {
   "cell_type": "code",
   "execution_count": null,
   "id": "649b3bdb-32a3-4b46-b4c9-0dbcdf30e04a",
   "metadata": {
    "colab": {
     "base_uri": "https://localhost:8080/"
    },
    "id": "649b3bdb-32a3-4b46-b4c9-0dbcdf30e04a",
    "outputId": "4d66f75d-5c4d-4e50-c373-f98b85299db0",
    "tags": []
   },
   "outputs": [
    {
     "name": "stdout",
     "output_type": "stream",
     "text": [
      "      id   age    bp     sg   al   su     rbc        pc         pcc  \\\n",
      "0      0  48.0  80.0  1.020  1.0  0.0  normal    normal  notpresent   \n",
      "1      1   7.0  50.0  1.020  4.0  0.0  normal    normal  notpresent   \n",
      "2      2  62.0  80.0  1.010  2.0  3.0  normal    normal  notpresent   \n",
      "3      3  48.0  70.0  1.005  4.0  0.0  normal  abnormal     present   \n",
      "4      4  51.0  80.0  1.010  2.0  0.0  normal    normal  notpresent   \n",
      "..   ...   ...   ...    ...  ...  ...     ...       ...         ...   \n",
      "395  395  55.0  80.0  1.020  0.0  0.0  normal    normal  notpresent   \n",
      "396  396  42.0  70.0  1.025  0.0  0.0  normal    normal  notpresent   \n",
      "397  397  12.0  80.0  1.020  0.0  0.0  normal    normal  notpresent   \n",
      "398  398  17.0  60.0  1.025  0.0  0.0  normal    normal  notpresent   \n",
      "399  399  58.0  80.0  1.025  0.0  0.0  normal    normal  notpresent   \n",
      "\n",
      "             ba  ...  pcv    wc   rc  htn   dm  cad appet   pe  ane  \\\n",
      "0    notpresent  ...   44  7800  5.2  yes  yes   no  good   no   no   \n",
      "1    notpresent  ...   38  6000  NaN   no   no   no  good   no   no   \n",
      "2    notpresent  ...   31  7500  NaN   no  yes   no  poor   no  yes   \n",
      "3    notpresent  ...   32  6700  3.9  yes   no   no  poor  yes  yes   \n",
      "4    notpresent  ...   35  7300  4.6   no   no   no  good   no   no   \n",
      "..          ...  ...  ...   ...  ...  ...  ...  ...   ...  ...  ...   \n",
      "395  notpresent  ...   47  6700  4.9   no   no   no  good   no   no   \n",
      "396  notpresent  ...   54  7800  6.2   no   no   no  good   no   no   \n",
      "397  notpresent  ...   49  6600  5.4   no   no   no  good   no   no   \n",
      "398  notpresent  ...   51  7200  5.9   no   no   no  good   no   no   \n",
      "399  notpresent  ...   53  6800  6.1   no   no   no  good   no   no   \n",
      "\n",
      "    classification  \n",
      "0              ckd  \n",
      "1              ckd  \n",
      "2              ckd  \n",
      "3              ckd  \n",
      "4              ckd  \n",
      "..             ...  \n",
      "395         notckd  \n",
      "396         notckd  \n",
      "397         notckd  \n",
      "398         notckd  \n",
      "399         notckd  \n",
      "\n",
      "[400 rows x 26 columns]\n"
     ]
    }
   ],
   "source": [
    "# Select the column to impute\n",
    "column_name = 'hemo'\n",
    "\n",
    "# Create a KNN imputer\n",
    "imputer = KNNImputer(n_neighbors=5)\n",
    "\n",
    "# Perform KNN imputation\n",
    "imputed_values = imputer.fit_transform(ckd[column_name].values.reshape(-1, 1))\n",
    "\n",
    "# Assign imputed values back to the original dataset\n",
    "ckd[column_name] = imputed_values.flatten()\n",
    "\n",
    "# Print the updated dataset with imputed values\n",
    "print(ckd)"
   ]
  },
  {
   "cell_type": "code",
   "execution_count": null,
   "id": "4e22067e-3946-4c39-8161-d589f8d1cc16",
   "metadata": {
    "colab": {
     "base_uri": "https://localhost:8080/"
    },
    "id": "4e22067e-3946-4c39-8161-d589f8d1cc16",
    "outputId": "5c1a0b83-746b-4ddc-a6f2-f7992c3b3d85"
   },
   "outputs": [
    {
     "name": "stdout",
     "output_type": "stream",
     "text": [
      "<class 'pandas.core.frame.DataFrame'>\n",
      "RangeIndex: 400 entries, 0 to 399\n",
      "Data columns (total 26 columns):\n",
      " #   Column          Non-Null Count  Dtype  \n",
      "---  ------          --------------  -----  \n",
      " 0   id              400 non-null    int64  \n",
      " 1   age             400 non-null    float64\n",
      " 2   bp              400 non-null    float64\n",
      " 3   sg              400 non-null    float64\n",
      " 4   al              400 non-null    float64\n",
      " 5   su              400 non-null    float64\n",
      " 6   rbc             400 non-null    object \n",
      " 7   pc              400 non-null    object \n",
      " 8   pcc             400 non-null    object \n",
      " 9   ba              400 non-null    object \n",
      " 10  bgr             356 non-null    float64\n",
      " 11  bu              381 non-null    float64\n",
      " 12  sc              400 non-null    float64\n",
      " 13  sod             313 non-null    float64\n",
      " 14  pot             312 non-null    float64\n",
      " 15  hemo            400 non-null    float64\n",
      " 16  pcv             330 non-null    object \n",
      " 17  wc              295 non-null    object \n",
      " 18  rc              270 non-null    object \n",
      " 19  htn             400 non-null    object \n",
      " 20  dm              400 non-null    object \n",
      " 21  cad             400 non-null    object \n",
      " 22  appet           400 non-null    object \n",
      " 23  pe              400 non-null    object \n",
      " 24  ane             400 non-null    object \n",
      " 25  classification  400 non-null    object \n",
      "dtypes: float64(11), int64(1), object(14)\n",
      "memory usage: 81.4+ KB\n"
     ]
    }
   ],
   "source": [
    "ckd.info()"
   ]
  },
  {
   "cell_type": "code",
   "execution_count": null,
   "id": "fec721b7-64b3-4fc1-86db-db884fcb5e26",
   "metadata": {
    "colab": {
     "base_uri": "https://localhost:8080/"
    },
    "id": "fec721b7-64b3-4fc1-86db-db884fcb5e26",
    "outputId": "eb0bed7a-7429-4546-e26b-ea907cdcc208",
    "tags": []
   },
   "outputs": [
    {
     "name": "stdout",
     "output_type": "stream",
     "text": [
      "      id   age    bp     sg   al   su     rbc        pc         pcc  \\\n",
      "0      0  48.0  80.0  1.020  1.0  0.0  normal    normal  notpresent   \n",
      "1      1   7.0  50.0  1.020  4.0  0.0  normal    normal  notpresent   \n",
      "2      2  62.0  80.0  1.010  2.0  3.0  normal    normal  notpresent   \n",
      "3      3  48.0  70.0  1.005  4.0  0.0  normal  abnormal     present   \n",
      "4      4  51.0  80.0  1.010  2.0  0.0  normal    normal  notpresent   \n",
      "..   ...   ...   ...    ...  ...  ...     ...       ...         ...   \n",
      "395  395  55.0  80.0  1.020  0.0  0.0  normal    normal  notpresent   \n",
      "396  396  42.0  70.0  1.025  0.0  0.0  normal    normal  notpresent   \n",
      "397  397  12.0  80.0  1.020  0.0  0.0  normal    normal  notpresent   \n",
      "398  398  17.0  60.0  1.025  0.0  0.0  normal    normal  notpresent   \n",
      "399  399  58.0  80.0  1.025  0.0  0.0  normal    normal  notpresent   \n",
      "\n",
      "             ba  ...  pcv    wc   rc  htn   dm  cad appet   pe  ane  \\\n",
      "0    notpresent  ...   44  7800  5.2  yes  yes   no  good   no   no   \n",
      "1    notpresent  ...   38  6000  NaN   no   no   no  good   no   no   \n",
      "2    notpresent  ...   31  7500  NaN   no  yes   no  poor   no  yes   \n",
      "3    notpresent  ...   32  6700  3.9  yes   no   no  poor  yes  yes   \n",
      "4    notpresent  ...   35  7300  4.6   no   no   no  good   no   no   \n",
      "..          ...  ...  ...   ...  ...  ...  ...  ...   ...  ...  ...   \n",
      "395  notpresent  ...   47  6700  4.9   no   no   no  good   no   no   \n",
      "396  notpresent  ...   54  7800  6.2   no   no   no  good   no   no   \n",
      "397  notpresent  ...   49  6600  5.4   no   no   no  good   no   no   \n",
      "398  notpresent  ...   51  7200  5.9   no   no   no  good   no   no   \n",
      "399  notpresent  ...   53  6800  6.1   no   no   no  good   no   no   \n",
      "\n",
      "    classification  \n",
      "0              ckd  \n",
      "1              ckd  \n",
      "2              ckd  \n",
      "3              ckd  \n",
      "4              ckd  \n",
      "..             ...  \n",
      "395         notckd  \n",
      "396         notckd  \n",
      "397         notckd  \n",
      "398         notckd  \n",
      "399         notckd  \n",
      "\n",
      "[400 rows x 26 columns]\n"
     ]
    }
   ],
   "source": [
    "# Select the column to impute\n",
    "column_name = 'bgr'\n",
    "\n",
    "# Create a KNN imputer\n",
    "imputer = KNNImputer(n_neighbors=5)\n",
    "\n",
    "# Perform KNN imputation\n",
    "imputed_values = imputer.fit_transform(ckd[column_name].values.reshape(-1, 1))\n",
    "\n",
    "# Assign imputed values back to the original dataset\n",
    "ckd[column_name] = imputed_values.flatten()\n",
    "\n",
    "# Print the updated dataset with imputed values\n",
    "print(ckd)"
   ]
  },
  {
   "cell_type": "code",
   "execution_count": null,
   "id": "02e37605-e5c5-4085-a615-b4bcfc97b40b",
   "metadata": {
    "colab": {
     "base_uri": "https://localhost:8080/"
    },
    "id": "02e37605-e5c5-4085-a615-b4bcfc97b40b",
    "outputId": "6be2d188-026f-46bb-d553-a7b27d5159a2",
    "tags": []
   },
   "outputs": [
    {
     "name": "stdout",
     "output_type": "stream",
     "text": [
      "      id   age    bp     sg   al   su     rbc        pc         pcc  \\\n",
      "0      0  48.0  80.0  1.020  1.0  0.0  normal    normal  notpresent   \n",
      "1      1   7.0  50.0  1.020  4.0  0.0  normal    normal  notpresent   \n",
      "2      2  62.0  80.0  1.010  2.0  3.0  normal    normal  notpresent   \n",
      "3      3  48.0  70.0  1.005  4.0  0.0  normal  abnormal     present   \n",
      "4      4  51.0  80.0  1.010  2.0  0.0  normal    normal  notpresent   \n",
      "..   ...   ...   ...    ...  ...  ...     ...       ...         ...   \n",
      "395  395  55.0  80.0  1.020  0.0  0.0  normal    normal  notpresent   \n",
      "396  396  42.0  70.0  1.025  0.0  0.0  normal    normal  notpresent   \n",
      "397  397  12.0  80.0  1.020  0.0  0.0  normal    normal  notpresent   \n",
      "398  398  17.0  60.0  1.025  0.0  0.0  normal    normal  notpresent   \n",
      "399  399  58.0  80.0  1.025  0.0  0.0  normal    normal  notpresent   \n",
      "\n",
      "             ba  ...  pcv    wc   rc  htn   dm  cad appet   pe  ane  \\\n",
      "0    notpresent  ...   44  7800  5.2  yes  yes   no  good   no   no   \n",
      "1    notpresent  ...   38  6000  NaN   no   no   no  good   no   no   \n",
      "2    notpresent  ...   31  7500  NaN   no  yes   no  poor   no  yes   \n",
      "3    notpresent  ...   32  6700  3.9  yes   no   no  poor  yes  yes   \n",
      "4    notpresent  ...   35  7300  4.6   no   no   no  good   no   no   \n",
      "..          ...  ...  ...   ...  ...  ...  ...  ...   ...  ...  ...   \n",
      "395  notpresent  ...   47  6700  4.9   no   no   no  good   no   no   \n",
      "396  notpresent  ...   54  7800  6.2   no   no   no  good   no   no   \n",
      "397  notpresent  ...   49  6600  5.4   no   no   no  good   no   no   \n",
      "398  notpresent  ...   51  7200  5.9   no   no   no  good   no   no   \n",
      "399  notpresent  ...   53  6800  6.1   no   no   no  good   no   no   \n",
      "\n",
      "    classification  \n",
      "0              ckd  \n",
      "1              ckd  \n",
      "2              ckd  \n",
      "3              ckd  \n",
      "4              ckd  \n",
      "..             ...  \n",
      "395         notckd  \n",
      "396         notckd  \n",
      "397         notckd  \n",
      "398         notckd  \n",
      "399         notckd  \n",
      "\n",
      "[400 rows x 26 columns]\n"
     ]
    }
   ],
   "source": [
    "# Select the column to impute\n",
    "column_name = 'bu'\n",
    "\n",
    "# Create a KNN imputer\n",
    "imputer = KNNImputer(n_neighbors=5)\n",
    "\n",
    "# Perform KNN imputation\n",
    "imputed_values = imputer.fit_transform(ckd[column_name].values.reshape(-1, 1))\n",
    "\n",
    "# Assign imputed values back to the original dataset\n",
    "ckd[column_name] = imputed_values.flatten()\n",
    "\n",
    "# Print the updated dataset with imputed values\n",
    "print(ckd)\n"
   ]
  },
  {
   "cell_type": "code",
   "execution_count": null,
   "id": "7665557f-e596-4a28-9c98-06e8abeabc53",
   "metadata": {
    "colab": {
     "base_uri": "https://localhost:8080/"
    },
    "id": "7665557f-e596-4a28-9c98-06e8abeabc53",
    "outputId": "52bdf032-ae12-46c5-caf1-30f1931e0dea",
    "tags": []
   },
   "outputs": [
    {
     "name": "stdout",
     "output_type": "stream",
     "text": [
      "<class 'pandas.core.frame.DataFrame'>\n",
      "RangeIndex: 400 entries, 0 to 399\n",
      "Data columns (total 26 columns):\n",
      " #   Column          Non-Null Count  Dtype  \n",
      "---  ------          --------------  -----  \n",
      " 0   id              400 non-null    int64  \n",
      " 1   age             400 non-null    float64\n",
      " 2   bp              400 non-null    float64\n",
      " 3   sg              400 non-null    float64\n",
      " 4   al              400 non-null    float64\n",
      " 5   su              400 non-null    float64\n",
      " 6   rbc             400 non-null    object \n",
      " 7   pc              400 non-null    object \n",
      " 8   pcc             400 non-null    object \n",
      " 9   ba              400 non-null    object \n",
      " 10  bgr             400 non-null    float64\n",
      " 11  bu              400 non-null    float64\n",
      " 12  sc              400 non-null    float64\n",
      " 13  sod             313 non-null    float64\n",
      " 14  pot             312 non-null    float64\n",
      " 15  hemo            400 non-null    float64\n",
      " 16  pcv             330 non-null    object \n",
      " 17  wc              295 non-null    object \n",
      " 18  rc              270 non-null    object \n",
      " 19  htn             400 non-null    object \n",
      " 20  dm              400 non-null    object \n",
      " 21  cad             400 non-null    object \n",
      " 22  appet           400 non-null    object \n",
      " 23  pe              400 non-null    object \n",
      " 24  ane             400 non-null    object \n",
      " 25  classification  400 non-null    object \n",
      "dtypes: float64(11), int64(1), object(14)\n",
      "memory usage: 81.4+ KB\n"
     ]
    }
   ],
   "source": [
    "ckd.info()"
   ]
  },
  {
   "cell_type": "code",
   "execution_count": null,
   "id": "c6049b9f-eb46-48e7-9ba6-6c900a3ab89b",
   "metadata": {
    "colab": {
     "base_uri": "https://localhost:8080/"
    },
    "id": "c6049b9f-eb46-48e7-9ba6-6c900a3ab89b",
    "outputId": "a72ca5c5-e1da-4cc2-af25-f43ff24775bd",
    "tags": []
   },
   "outputs": [
    {
     "name": "stdout",
     "output_type": "stream",
     "text": [
      "      id   age    bp     sg   al   su     rbc        pc         pcc  \\\n",
      "0      0  48.0  80.0  1.020  1.0  0.0  normal    normal  notpresent   \n",
      "1      1   7.0  50.0  1.020  4.0  0.0  normal    normal  notpresent   \n",
      "2      2  62.0  80.0  1.010  2.0  3.0  normal    normal  notpresent   \n",
      "3      3  48.0  70.0  1.005  4.0  0.0  normal  abnormal     present   \n",
      "4      4  51.0  80.0  1.010  2.0  0.0  normal    normal  notpresent   \n",
      "..   ...   ...   ...    ...  ...  ...     ...       ...         ...   \n",
      "395  395  55.0  80.0  1.020  0.0  0.0  normal    normal  notpresent   \n",
      "396  396  42.0  70.0  1.025  0.0  0.0  normal    normal  notpresent   \n",
      "397  397  12.0  80.0  1.020  0.0  0.0  normal    normal  notpresent   \n",
      "398  398  17.0  60.0  1.025  0.0  0.0  normal    normal  notpresent   \n",
      "399  399  58.0  80.0  1.025  0.0  0.0  normal    normal  notpresent   \n",
      "\n",
      "             ba  ...  pcv    wc   rc  htn   dm  cad appet   pe  ane  \\\n",
      "0    notpresent  ...   44  7800  5.2  yes  yes   no  good   no   no   \n",
      "1    notpresent  ...   38  6000  NaN   no   no   no  good   no   no   \n",
      "2    notpresent  ...   31  7500  NaN   no  yes   no  poor   no  yes   \n",
      "3    notpresent  ...   32  6700  3.9  yes   no   no  poor  yes  yes   \n",
      "4    notpresent  ...   35  7300  4.6   no   no   no  good   no   no   \n",
      "..          ...  ...  ...   ...  ...  ...  ...  ...   ...  ...  ...   \n",
      "395  notpresent  ...   47  6700  4.9   no   no   no  good   no   no   \n",
      "396  notpresent  ...   54  7800  6.2   no   no   no  good   no   no   \n",
      "397  notpresent  ...   49  6600  5.4   no   no   no  good   no   no   \n",
      "398  notpresent  ...   51  7200  5.9   no   no   no  good   no   no   \n",
      "399  notpresent  ...   53  6800  6.1   no   no   no  good   no   no   \n",
      "\n",
      "    classification  \n",
      "0              ckd  \n",
      "1              ckd  \n",
      "2              ckd  \n",
      "3              ckd  \n",
      "4              ckd  \n",
      "..             ...  \n",
      "395         notckd  \n",
      "396         notckd  \n",
      "397         notckd  \n",
      "398         notckd  \n",
      "399         notckd  \n",
      "\n",
      "[400 rows x 26 columns]\n"
     ]
    }
   ],
   "source": [
    "# Select the column to impute\n",
    "column_name = 'sod'\n",
    "\n",
    "# Create a KNN imputer\n",
    "imputer = KNNImputer(n_neighbors=5)\n",
    "\n",
    "# Perform KNN imputation\n",
    "imputed_values = imputer.fit_transform(ckd[column_name].values.reshape(-1, 1))\n",
    "\n",
    "# Assign imputed values back to the original dataset\n",
    "ckd[column_name] = imputed_values.flatten()\n",
    "\n",
    "# Print the updated dataset with imputed values\n",
    "print(ckd)\n"
   ]
  },
  {
   "cell_type": "code",
   "execution_count": null,
   "id": "61292eed-f990-4e01-8db9-9e0af20c0c70",
   "metadata": {
    "colab": {
     "base_uri": "https://localhost:8080/"
    },
    "id": "61292eed-f990-4e01-8db9-9e0af20c0c70",
    "outputId": "6eefc5de-ff2b-4823-8f72-a38bf0be4592",
    "tags": []
   },
   "outputs": [
    {
     "name": "stdout",
     "output_type": "stream",
     "text": [
      "      id   age    bp     sg   al   su     rbc        pc         pcc  \\\n",
      "0      0  48.0  80.0  1.020  1.0  0.0  normal    normal  notpresent   \n",
      "1      1   7.0  50.0  1.020  4.0  0.0  normal    normal  notpresent   \n",
      "2      2  62.0  80.0  1.010  2.0  3.0  normal    normal  notpresent   \n",
      "3      3  48.0  70.0  1.005  4.0  0.0  normal  abnormal     present   \n",
      "4      4  51.0  80.0  1.010  2.0  0.0  normal    normal  notpresent   \n",
      "..   ...   ...   ...    ...  ...  ...     ...       ...         ...   \n",
      "395  395  55.0  80.0  1.020  0.0  0.0  normal    normal  notpresent   \n",
      "396  396  42.0  70.0  1.025  0.0  0.0  normal    normal  notpresent   \n",
      "397  397  12.0  80.0  1.020  0.0  0.0  normal    normal  notpresent   \n",
      "398  398  17.0  60.0  1.025  0.0  0.0  normal    normal  notpresent   \n",
      "399  399  58.0  80.0  1.025  0.0  0.0  normal    normal  notpresent   \n",
      "\n",
      "             ba  ...  pcv    wc   rc  htn   dm  cad appet   pe  ane  \\\n",
      "0    notpresent  ...   44  7800  5.2  yes  yes   no  good   no   no   \n",
      "1    notpresent  ...   38  6000  NaN   no   no   no  good   no   no   \n",
      "2    notpresent  ...   31  7500  NaN   no  yes   no  poor   no  yes   \n",
      "3    notpresent  ...   32  6700  3.9  yes   no   no  poor  yes  yes   \n",
      "4    notpresent  ...   35  7300  4.6   no   no   no  good   no   no   \n",
      "..          ...  ...  ...   ...  ...  ...  ...  ...   ...  ...  ...   \n",
      "395  notpresent  ...   47  6700  4.9   no   no   no  good   no   no   \n",
      "396  notpresent  ...   54  7800  6.2   no   no   no  good   no   no   \n",
      "397  notpresent  ...   49  6600  5.4   no   no   no  good   no   no   \n",
      "398  notpresent  ...   51  7200  5.9   no   no   no  good   no   no   \n",
      "399  notpresent  ...   53  6800  6.1   no   no   no  good   no   no   \n",
      "\n",
      "    classification  \n",
      "0              ckd  \n",
      "1              ckd  \n",
      "2              ckd  \n",
      "3              ckd  \n",
      "4              ckd  \n",
      "..             ...  \n",
      "395         notckd  \n",
      "396         notckd  \n",
      "397         notckd  \n",
      "398         notckd  \n",
      "399         notckd  \n",
      "\n",
      "[400 rows x 26 columns]\n"
     ]
    }
   ],
   "source": [
    "# Select the column to impute\n",
    "column_name = 'pot'\n",
    "\n",
    "# Create a KNN imputer\n",
    "imputer = KNNImputer(n_neighbors=5)\n",
    "\n",
    "# Perform KNN imputation\n",
    "imputed_values = imputer.fit_transform(ckd[column_name].values.reshape(-1, 1))\n",
    "\n",
    "# Assign imputed values back to the original dataset\n",
    "ckd[column_name] = imputed_values.flatten()\n",
    "\n",
    "# Print the updated dataset with imputed values\n",
    "print(ckd)\n"
   ]
  },
  {
   "cell_type": "code",
   "execution_count": null,
   "id": "b6570f47-5d61-49a4-9f29-d710f75ef7bb",
   "metadata": {
    "colab": {
     "base_uri": "https://localhost:8080/"
    },
    "id": "b6570f47-5d61-49a4-9f29-d710f75ef7bb",
    "outputId": "8ce74e4e-7b76-4853-92b1-0fe1d32844a0",
    "tags": []
   },
   "outputs": [
    {
     "name": "stdout",
     "output_type": "stream",
     "text": [
      "<class 'pandas.core.frame.DataFrame'>\n",
      "RangeIndex: 400 entries, 0 to 399\n",
      "Data columns (total 26 columns):\n",
      " #   Column          Non-Null Count  Dtype  \n",
      "---  ------          --------------  -----  \n",
      " 0   id              400 non-null    int64  \n",
      " 1   age             400 non-null    float64\n",
      " 2   bp              400 non-null    float64\n",
      " 3   sg              400 non-null    float64\n",
      " 4   al              400 non-null    float64\n",
      " 5   su              400 non-null    float64\n",
      " 6   rbc             400 non-null    object \n",
      " 7   pc              400 non-null    object \n",
      " 8   pcc             400 non-null    object \n",
      " 9   ba              400 non-null    object \n",
      " 10  bgr             400 non-null    float64\n",
      " 11  bu              400 non-null    float64\n",
      " 12  sc              400 non-null    float64\n",
      " 13  sod             400 non-null    float64\n",
      " 14  pot             400 non-null    float64\n",
      " 15  hemo            400 non-null    float64\n",
      " 16  pcv             330 non-null    object \n",
      " 17  wc              295 non-null    object \n",
      " 18  rc              270 non-null    object \n",
      " 19  htn             400 non-null    object \n",
      " 20  dm              400 non-null    object \n",
      " 21  cad             400 non-null    object \n",
      " 22  appet           400 non-null    object \n",
      " 23  pe              400 non-null    object \n",
      " 24  ane             400 non-null    object \n",
      " 25  classification  400 non-null    object \n",
      "dtypes: float64(11), int64(1), object(14)\n",
      "memory usage: 81.4+ KB\n"
     ]
    }
   ],
   "source": [
    "ckd.info()"
   ]
  },
  {
   "cell_type": "markdown",
   "id": "n5MK4npnedp5",
   "metadata": {
    "id": "n5MK4npnedp5"
   },
   "source": [
    "## Convert non - numeric data to Nan"
   ]
  },
  {
   "cell_type": "code",
   "execution_count": null,
   "id": "f468b1b8-7d38-4903-a5ae-3a0b2fa852a1",
   "metadata": {
    "id": "f468b1b8-7d38-4903-a5ae-3a0b2fa852a1",
    "tags": []
   },
   "outputs": [],
   "source": [
    "import numpy as np\n",
    "\n",
    "# Assuming 'attribute' is the name of the attribute/column\n",
    "attribute_values = ckd['rc']\n",
    "\n",
    "numeric_values = pd.to_numeric(attribute_values, errors='coerce')\n",
    "\n",
    "# Replace non-numeric values with NaN\n",
    "ckd['rc'] = np.where(pd.to_numeric(attribute_values, errors='coerce').notnull(), attribute_values, np.nan)\n"
   ]
  },
  {
   "cell_type": "code",
   "execution_count": null,
   "id": "fdfaf78a-b427-4d13-9495-129ec6b91fb5",
   "metadata": {
    "colab": {
     "base_uri": "https://localhost:8080/"
    },
    "id": "fdfaf78a-b427-4d13-9495-129ec6b91fb5",
    "outputId": "d79f3b9c-268f-44c2-b7e4-be78db363e2d",
    "tags": []
   },
   "outputs": [
    {
     "name": "stdout",
     "output_type": "stream",
     "text": [
      "      id   age    bp     sg   al   su     rbc        pc         pcc  \\\n",
      "0      0  48.0  80.0  1.020  1.0  0.0  normal    normal  notpresent   \n",
      "1      1   7.0  50.0  1.020  4.0  0.0  normal    normal  notpresent   \n",
      "2      2  62.0  80.0  1.010  2.0  3.0  normal    normal  notpresent   \n",
      "3      3  48.0  70.0  1.005  4.0  0.0  normal  abnormal     present   \n",
      "4      4  51.0  80.0  1.010  2.0  0.0  normal    normal  notpresent   \n",
      "..   ...   ...   ...    ...  ...  ...     ...       ...         ...   \n",
      "395  395  55.0  80.0  1.020  0.0  0.0  normal    normal  notpresent   \n",
      "396  396  42.0  70.0  1.025  0.0  0.0  normal    normal  notpresent   \n",
      "397  397  12.0  80.0  1.020  0.0  0.0  normal    normal  notpresent   \n",
      "398  398  17.0  60.0  1.025  0.0  0.0  normal    normal  notpresent   \n",
      "399  399  58.0  80.0  1.025  0.0  0.0  normal    normal  notpresent   \n",
      "\n",
      "             ba  ...  pcv    wc        rc  htn   dm  cad appet   pe  ane  \\\n",
      "0    notpresent  ...   44  7800  5.200000  yes  yes   no  good   no   no   \n",
      "1    notpresent  ...   38  6000  4.707435   no   no   no  good   no   no   \n",
      "2    notpresent  ...   31  7500  4.707435   no  yes   no  poor   no  yes   \n",
      "3    notpresent  ...   32  6700  3.900000  yes   no   no  poor  yes  yes   \n",
      "4    notpresent  ...   35  7300  4.600000   no   no   no  good   no   no   \n",
      "..          ...  ...  ...   ...       ...  ...  ...  ...   ...  ...  ...   \n",
      "395  notpresent  ...   47  6700  4.900000   no   no   no  good   no   no   \n",
      "396  notpresent  ...   54  7800  6.200000   no   no   no  good   no   no   \n",
      "397  notpresent  ...   49  6600  5.400000   no   no   no  good   no   no   \n",
      "398  notpresent  ...   51  7200  5.900000   no   no   no  good   no   no   \n",
      "399  notpresent  ...   53  6800  6.100000   no   no   no  good   no   no   \n",
      "\n",
      "    classification  \n",
      "0              ckd  \n",
      "1              ckd  \n",
      "2              ckd  \n",
      "3              ckd  \n",
      "4              ckd  \n",
      "..             ...  \n",
      "395         notckd  \n",
      "396         notckd  \n",
      "397         notckd  \n",
      "398         notckd  \n",
      "399         notckd  \n",
      "\n",
      "[400 rows x 26 columns]\n"
     ]
    }
   ],
   "source": [
    "# Select the column to impute\n",
    "column_name = 'rc'\n",
    "\n",
    "imputer = KNNImputer(n_neighbors=5)\n",
    "\n",
    "imputed_values = imputer.fit_transform(ckd[column_name].values.reshape(-1, 1))\n",
    "\n",
    "# Assign imputed values back to the original dataset\n",
    "ckd[column_name] = imputed_values.flatten()\n",
    "\n",
    "# Print the updated dataset with imputed values\n",
    "print(ckd)\n"
   ]
  },
  {
   "cell_type": "code",
   "execution_count": null,
   "id": "988e324a-ee7a-4146-ad79-84b56208bcd1",
   "metadata": {
    "id": "988e324a-ee7a-4146-ad79-84b56208bcd1",
    "tags": []
   },
   "outputs": [],
   "source": [
    "# Assuming 'attribute' is the name of the attribute/column\n",
    "attribute_values = ckd['wc']\n",
    "\n",
    "# Convert non-numeric values to NaN\n",
    "numeric_values = pd.to_numeric(attribute_values, errors='coerce')\n",
    "\n",
    "# Replace non-numeric values with NaN\n",
    "ckd['wc'] = np.where(pd.to_numeric(attribute_values, errors='coerce').notnull(), attribute_values, np.nan)\n"
   ]
  },
  {
   "cell_type": "code",
   "execution_count": null,
   "id": "57ee94e8-2c56-4953-8881-dcb63840ba00",
   "metadata": {
    "colab": {
     "base_uri": "https://localhost:8080/"
    },
    "id": "57ee94e8-2c56-4953-8881-dcb63840ba00",
    "outputId": "2978a247-acff-405f-c99b-66e0b96c93b7",
    "tags": []
   },
   "outputs": [
    {
     "name": "stdout",
     "output_type": "stream",
     "text": [
      "      id   age    bp     sg   al   su     rbc        pc         pcc  \\\n",
      "0      0  48.0  80.0  1.020  1.0  0.0  normal    normal  notpresent   \n",
      "1      1   7.0  50.0  1.020  4.0  0.0  normal    normal  notpresent   \n",
      "2      2  62.0  80.0  1.010  2.0  3.0  normal    normal  notpresent   \n",
      "3      3  48.0  70.0  1.005  4.0  0.0  normal  abnormal     present   \n",
      "4      4  51.0  80.0  1.010  2.0  0.0  normal    normal  notpresent   \n",
      "..   ...   ...   ...    ...  ...  ...     ...       ...         ...   \n",
      "395  395  55.0  80.0  1.020  0.0  0.0  normal    normal  notpresent   \n",
      "396  396  42.0  70.0  1.025  0.0  0.0  normal    normal  notpresent   \n",
      "397  397  12.0  80.0  1.020  0.0  0.0  normal    normal  notpresent   \n",
      "398  398  17.0  60.0  1.025  0.0  0.0  normal    normal  notpresent   \n",
      "399  399  58.0  80.0  1.025  0.0  0.0  normal    normal  notpresent   \n",
      "\n",
      "             ba  ...  pcv      wc        rc  htn   dm  cad appet   pe  ane  \\\n",
      "0    notpresent  ...   44  7800.0  5.200000  yes  yes   no  good   no   no   \n",
      "1    notpresent  ...   38  6000.0  4.707435   no   no   no  good   no   no   \n",
      "2    notpresent  ...   31  7500.0  4.707435   no  yes   no  poor   no  yes   \n",
      "3    notpresent  ...   32  6700.0  3.900000  yes   no   no  poor  yes  yes   \n",
      "4    notpresent  ...   35  7300.0  4.600000   no   no   no  good   no   no   \n",
      "..          ...  ...  ...     ...       ...  ...  ...  ...   ...  ...  ...   \n",
      "395  notpresent  ...   47  6700.0  4.900000   no   no   no  good   no   no   \n",
      "396  notpresent  ...   54  7800.0  6.200000   no   no   no  good   no   no   \n",
      "397  notpresent  ...   49  6600.0  5.400000   no   no   no  good   no   no   \n",
      "398  notpresent  ...   51  7200.0  5.900000   no   no   no  good   no   no   \n",
      "399  notpresent  ...   53  6800.0  6.100000   no   no   no  good   no   no   \n",
      "\n",
      "    classification  \n",
      "0              ckd  \n",
      "1              ckd  \n",
      "2              ckd  \n",
      "3              ckd  \n",
      "4              ckd  \n",
      "..             ...  \n",
      "395         notckd  \n",
      "396         notckd  \n",
      "397         notckd  \n",
      "398         notckd  \n",
      "399         notckd  \n",
      "\n",
      "[400 rows x 26 columns]\n"
     ]
    }
   ],
   "source": [
    "# Select the column to impute\n",
    "column_name = 'wc'\n",
    "\n",
    "# Create a KNN imputer\n",
    "imputer = KNNImputer(n_neighbors=5)\n",
    "\n",
    "# Perform KNN imputation\n",
    "imputed_values = imputer.fit_transform(ckd[column_name].values.reshape(-1, 1))\n",
    "\n",
    "# Assign imputed values back to the original dataset\n",
    "ckd[column_name] = imputed_values.flatten()\n",
    "\n",
    "# Print the updated dataset with imputed values\n",
    "print(ckd)\n"
   ]
  },
  {
   "cell_type": "code",
   "execution_count": null,
   "id": "12d00025-030c-4cf2-9194-fd58f14de11c",
   "metadata": {
    "colab": {
     "base_uri": "https://localhost:8080/"
    },
    "id": "12d00025-030c-4cf2-9194-fd58f14de11c",
    "outputId": "cf4439d5-97ac-40e4-cafe-897dff02ab26",
    "tags": []
   },
   "outputs": [
    {
     "data": {
      "text/plain": [
       "(400, 26)"
      ]
     },
     "execution_count": 306,
     "metadata": {},
     "output_type": "execute_result"
    }
   ],
   "source": [
    "ckd.shape"
   ]
  },
  {
   "cell_type": "code",
   "execution_count": null,
   "id": "4f206c2d-6463-4d97-a372-442409257d68",
   "metadata": {
    "id": "4f206c2d-6463-4d97-a372-442409257d68",
    "tags": []
   },
   "outputs": [],
   "source": [
    "attribute_values = ckd['pcv']\n",
    "\n",
    "numeric_values = pd.to_numeric(attribute_values, errors='coerce')\n",
    "\n",
    "# Replace non-numeric values with NaN\n",
    "ckd['pcv'] = np.where(pd.to_numeric(attribute_values, errors='coerce').notnull(), attribute_values, np.nan)\n"
   ]
  },
  {
   "cell_type": "code",
   "execution_count": null,
   "id": "a4e44a59-e1eb-4999-a26e-434ed359b854",
   "metadata": {
    "colab": {
     "base_uri": "https://localhost:8080/"
    },
    "id": "a4e44a59-e1eb-4999-a26e-434ed359b854",
    "outputId": "de0631a8-207f-4972-d957-f76fac5ed3fd",
    "tags": []
   },
   "outputs": [
    {
     "name": "stdout",
     "output_type": "stream",
     "text": [
      "      id   age    bp     sg   al   su     rbc        pc         pcc  \\\n",
      "0      0  48.0  80.0  1.020  1.0  0.0  normal    normal  notpresent   \n",
      "1      1   7.0  50.0  1.020  4.0  0.0  normal    normal  notpresent   \n",
      "2      2  62.0  80.0  1.010  2.0  3.0  normal    normal  notpresent   \n",
      "3      3  48.0  70.0  1.005  4.0  0.0  normal  abnormal     present   \n",
      "4      4  51.0  80.0  1.010  2.0  0.0  normal    normal  notpresent   \n",
      "..   ...   ...   ...    ...  ...  ...     ...       ...         ...   \n",
      "395  395  55.0  80.0  1.020  0.0  0.0  normal    normal  notpresent   \n",
      "396  396  42.0  70.0  1.025  0.0  0.0  normal    normal  notpresent   \n",
      "397  397  12.0  80.0  1.020  0.0  0.0  normal    normal  notpresent   \n",
      "398  398  17.0  60.0  1.025  0.0  0.0  normal    normal  notpresent   \n",
      "399  399  58.0  80.0  1.025  0.0  0.0  normal    normal  notpresent   \n",
      "\n",
      "             ba  ...   pcv      wc        rc  htn   dm  cad  appet   pe  ane  \\\n",
      "0    notpresent  ...  44.0  7800.0  5.200000  yes  yes   no   good   no   no   \n",
      "1    notpresent  ...  38.0  6000.0  4.707435   no   no   no   good   no   no   \n",
      "2    notpresent  ...  31.0  7500.0  4.707435   no  yes   no   poor   no  yes   \n",
      "3    notpresent  ...  32.0  6700.0  3.900000  yes   no   no   poor  yes  yes   \n",
      "4    notpresent  ...  35.0  7300.0  4.600000   no   no   no   good   no   no   \n",
      "..          ...  ...   ...     ...       ...  ...  ...  ...    ...  ...  ...   \n",
      "395  notpresent  ...  47.0  6700.0  4.900000   no   no   no   good   no   no   \n",
      "396  notpresent  ...  54.0  7800.0  6.200000   no   no   no   good   no   no   \n",
      "397  notpresent  ...  49.0  6600.0  5.400000   no   no   no   good   no   no   \n",
      "398  notpresent  ...  51.0  7200.0  5.900000   no   no   no   good   no   no   \n",
      "399  notpresent  ...  53.0  6800.0  6.100000   no   no   no   good   no   no   \n",
      "\n",
      "    classification  \n",
      "0              ckd  \n",
      "1              ckd  \n",
      "2              ckd  \n",
      "3              ckd  \n",
      "4              ckd  \n",
      "..             ...  \n",
      "395         notckd  \n",
      "396         notckd  \n",
      "397         notckd  \n",
      "398         notckd  \n",
      "399         notckd  \n",
      "\n",
      "[400 rows x 26 columns]\n"
     ]
    }
   ],
   "source": [
    "# Select the column to impute\n",
    "column_name = 'pcv'\n",
    "\n",
    "# Create a KNN imputer\n",
    "imputer = KNNImputer(n_neighbors=5)\n",
    "\n",
    "# Perform KNN imputation\n",
    "imputed_values = imputer.fit_transform(ckd[column_name].values.reshape(-1, 1))\n",
    "\n",
    "# Assign imputed values back to the original dataset\n",
    "ckd[column_name] = imputed_values.flatten()\n",
    "\n",
    "# Print the updated dataset with imputed values\n",
    "print(ckd)\n"
   ]
  },
  {
   "cell_type": "code",
   "execution_count": null,
   "id": "b505edd0-2f09-48c3-a31b-53c9716ecd57",
   "metadata": {
    "colab": {
     "base_uri": "https://localhost:8080/"
    },
    "id": "b505edd0-2f09-48c3-a31b-53c9716ecd57",
    "outputId": "3aef16d7-afc3-4b50-f911-8623cc46e0fe",
    "tags": []
   },
   "outputs": [
    {
     "data": {
      "text/html": [
       "\n",
       "  <div id=\"df-676ea586-607d-45b8-8e3e-e3d6b677cec4\">\n",
       "    <div class=\"colab-df-container\">\n",
       "      <div>\n",
       "<style scoped>\n",
       "    .dataframe tbody tr th:only-of-type {\n",
       "        vertical-align: middle;\n",
       "    }\n",
       "\n",
       "    .dataframe tbody tr th {\n",
       "        vertical-align: top;\n",
       "    }\n",
       "\n",
       "    .dataframe thead th {\n",
       "        text-align: right;\n",
       "    }\n",
       "</style>\n",
       "<table border=\"1\" class=\"dataframe\">\n",
       "  <thead>\n",
       "    <tr style=\"text-align: right;\">\n",
       "      <th></th>\n",
       "      <th>id</th>\n",
       "      <th>age</th>\n",
       "      <th>bp</th>\n",
       "      <th>sg</th>\n",
       "      <th>al</th>\n",
       "      <th>su</th>\n",
       "      <th>rbc</th>\n",
       "      <th>pc</th>\n",
       "      <th>pcc</th>\n",
       "      <th>ba</th>\n",
       "      <th>...</th>\n",
       "      <th>pcv</th>\n",
       "      <th>wc</th>\n",
       "      <th>rc</th>\n",
       "      <th>htn</th>\n",
       "      <th>dm</th>\n",
       "      <th>cad</th>\n",
       "      <th>appet</th>\n",
       "      <th>pe</th>\n",
       "      <th>ane</th>\n",
       "      <th>classification</th>\n",
       "    </tr>\n",
       "  </thead>\n",
       "  <tbody>\n",
       "    <tr>\n",
       "      <th>0</th>\n",
       "      <td>0</td>\n",
       "      <td>48.0</td>\n",
       "      <td>80.0</td>\n",
       "      <td>1.020</td>\n",
       "      <td>1.0</td>\n",
       "      <td>0.0</td>\n",
       "      <td>normal</td>\n",
       "      <td>normal</td>\n",
       "      <td>notpresent</td>\n",
       "      <td>notpresent</td>\n",
       "      <td>...</td>\n",
       "      <td>44.0</td>\n",
       "      <td>7800.0</td>\n",
       "      <td>5.200000</td>\n",
       "      <td>yes</td>\n",
       "      <td>yes</td>\n",
       "      <td>no</td>\n",
       "      <td>good</td>\n",
       "      <td>no</td>\n",
       "      <td>no</td>\n",
       "      <td>ckd</td>\n",
       "    </tr>\n",
       "    <tr>\n",
       "      <th>1</th>\n",
       "      <td>1</td>\n",
       "      <td>7.0</td>\n",
       "      <td>50.0</td>\n",
       "      <td>1.020</td>\n",
       "      <td>4.0</td>\n",
       "      <td>0.0</td>\n",
       "      <td>normal</td>\n",
       "      <td>normal</td>\n",
       "      <td>notpresent</td>\n",
       "      <td>notpresent</td>\n",
       "      <td>...</td>\n",
       "      <td>38.0</td>\n",
       "      <td>6000.0</td>\n",
       "      <td>4.707435</td>\n",
       "      <td>no</td>\n",
       "      <td>no</td>\n",
       "      <td>no</td>\n",
       "      <td>good</td>\n",
       "      <td>no</td>\n",
       "      <td>no</td>\n",
       "      <td>ckd</td>\n",
       "    </tr>\n",
       "    <tr>\n",
       "      <th>2</th>\n",
       "      <td>2</td>\n",
       "      <td>62.0</td>\n",
       "      <td>80.0</td>\n",
       "      <td>1.010</td>\n",
       "      <td>2.0</td>\n",
       "      <td>3.0</td>\n",
       "      <td>normal</td>\n",
       "      <td>normal</td>\n",
       "      <td>notpresent</td>\n",
       "      <td>notpresent</td>\n",
       "      <td>...</td>\n",
       "      <td>31.0</td>\n",
       "      <td>7500.0</td>\n",
       "      <td>4.707435</td>\n",
       "      <td>no</td>\n",
       "      <td>yes</td>\n",
       "      <td>no</td>\n",
       "      <td>poor</td>\n",
       "      <td>no</td>\n",
       "      <td>yes</td>\n",
       "      <td>ckd</td>\n",
       "    </tr>\n",
       "    <tr>\n",
       "      <th>3</th>\n",
       "      <td>3</td>\n",
       "      <td>48.0</td>\n",
       "      <td>70.0</td>\n",
       "      <td>1.005</td>\n",
       "      <td>4.0</td>\n",
       "      <td>0.0</td>\n",
       "      <td>normal</td>\n",
       "      <td>abnormal</td>\n",
       "      <td>present</td>\n",
       "      <td>notpresent</td>\n",
       "      <td>...</td>\n",
       "      <td>32.0</td>\n",
       "      <td>6700.0</td>\n",
       "      <td>3.900000</td>\n",
       "      <td>yes</td>\n",
       "      <td>no</td>\n",
       "      <td>no</td>\n",
       "      <td>poor</td>\n",
       "      <td>yes</td>\n",
       "      <td>yes</td>\n",
       "      <td>ckd</td>\n",
       "    </tr>\n",
       "    <tr>\n",
       "      <th>4</th>\n",
       "      <td>4</td>\n",
       "      <td>51.0</td>\n",
       "      <td>80.0</td>\n",
       "      <td>1.010</td>\n",
       "      <td>2.0</td>\n",
       "      <td>0.0</td>\n",
       "      <td>normal</td>\n",
       "      <td>normal</td>\n",
       "      <td>notpresent</td>\n",
       "      <td>notpresent</td>\n",
       "      <td>...</td>\n",
       "      <td>35.0</td>\n",
       "      <td>7300.0</td>\n",
       "      <td>4.600000</td>\n",
       "      <td>no</td>\n",
       "      <td>no</td>\n",
       "      <td>no</td>\n",
       "      <td>good</td>\n",
       "      <td>no</td>\n",
       "      <td>no</td>\n",
       "      <td>ckd</td>\n",
       "    </tr>\n",
       "  </tbody>\n",
       "</table>\n",
       "<p>5 rows × 26 columns</p>\n",
       "</div>\n",
       "      <button class=\"colab-df-convert\" onclick=\"convertToInteractive('df-676ea586-607d-45b8-8e3e-e3d6b677cec4')\"\n",
       "              title=\"Convert this dataframe to an interactive table.\"\n",
       "              style=\"display:none;\">\n",
       "        \n",
       "  <svg xmlns=\"http://www.w3.org/2000/svg\" height=\"24px\"viewBox=\"0 0 24 24\"\n",
       "       width=\"24px\">\n",
       "    <path d=\"M0 0h24v24H0V0z\" fill=\"none\"/>\n",
       "    <path d=\"M18.56 5.44l.94 2.06.94-2.06 2.06-.94-2.06-.94-.94-2.06-.94 2.06-2.06.94zm-11 1L8.5 8.5l.94-2.06 2.06-.94-2.06-.94L8.5 2.5l-.94 2.06-2.06.94zm10 10l.94 2.06.94-2.06 2.06-.94-2.06-.94-.94-2.06-.94 2.06-2.06.94z\"/><path d=\"M17.41 7.96l-1.37-1.37c-.4-.4-.92-.59-1.43-.59-.52 0-1.04.2-1.43.59L10.3 9.45l-7.72 7.72c-.78.78-.78 2.05 0 2.83L4 21.41c.39.39.9.59 1.41.59.51 0 1.02-.2 1.41-.59l7.78-7.78 2.81-2.81c.8-.78.8-2.07 0-2.86zM5.41 20L4 18.59l7.72-7.72 1.47 1.35L5.41 20z\"/>\n",
       "  </svg>\n",
       "      </button>\n",
       "      \n",
       "  <style>\n",
       "    .colab-df-container {\n",
       "      display:flex;\n",
       "      flex-wrap:wrap;\n",
       "      gap: 12px;\n",
       "    }\n",
       "\n",
       "    .colab-df-convert {\n",
       "      background-color: #E8F0FE;\n",
       "      border: none;\n",
       "      border-radius: 50%;\n",
       "      cursor: pointer;\n",
       "      display: none;\n",
       "      fill: #1967D2;\n",
       "      height: 32px;\n",
       "      padding: 0 0 0 0;\n",
       "      width: 32px;\n",
       "    }\n",
       "\n",
       "    .colab-df-convert:hover {\n",
       "      background-color: #E2EBFA;\n",
       "      box-shadow: 0px 1px 2px rgba(60, 64, 67, 0.3), 0px 1px 3px 1px rgba(60, 64, 67, 0.15);\n",
       "      fill: #174EA6;\n",
       "    }\n",
       "\n",
       "    [theme=dark] .colab-df-convert {\n",
       "      background-color: #3B4455;\n",
       "      fill: #D2E3FC;\n",
       "    }\n",
       "\n",
       "    [theme=dark] .colab-df-convert:hover {\n",
       "      background-color: #434B5C;\n",
       "      box-shadow: 0px 1px 3px 1px rgba(0, 0, 0, 0.15);\n",
       "      filter: drop-shadow(0px 1px 2px rgba(0, 0, 0, 0.3));\n",
       "      fill: #FFFFFF;\n",
       "    }\n",
       "  </style>\n",
       "\n",
       "      <script>\n",
       "        const buttonEl =\n",
       "          document.querySelector('#df-676ea586-607d-45b8-8e3e-e3d6b677cec4 button.colab-df-convert');\n",
       "        buttonEl.style.display =\n",
       "          google.colab.kernel.accessAllowed ? 'block' : 'none';\n",
       "\n",
       "        async function convertToInteractive(key) {\n",
       "          const element = document.querySelector('#df-676ea586-607d-45b8-8e3e-e3d6b677cec4');\n",
       "          const dataTable =\n",
       "            await google.colab.kernel.invokeFunction('convertToInteractive',\n",
       "                                                     [key], {});\n",
       "          if (!dataTable) return;\n",
       "\n",
       "          const docLinkHtml = 'Like what you see? Visit the ' +\n",
       "            '<a target=\"_blank\" href=https://colab.research.google.com/notebooks/data_table.ipynb>data table notebook</a>'\n",
       "            + ' to learn more about interactive tables.';\n",
       "          element.innerHTML = '';\n",
       "          dataTable['output_type'] = 'display_data';\n",
       "          await google.colab.output.renderOutput(dataTable, element);\n",
       "          const docLink = document.createElement('div');\n",
       "          docLink.innerHTML = docLinkHtml;\n",
       "          element.appendChild(docLink);\n",
       "        }\n",
       "      </script>\n",
       "    </div>\n",
       "  </div>\n",
       "  "
      ],
      "text/plain": [
       "   id   age    bp     sg   al   su     rbc        pc         pcc          ba  \\\n",
       "0   0  48.0  80.0  1.020  1.0  0.0  normal    normal  notpresent  notpresent   \n",
       "1   1   7.0  50.0  1.020  4.0  0.0  normal    normal  notpresent  notpresent   \n",
       "2   2  62.0  80.0  1.010  2.0  3.0  normal    normal  notpresent  notpresent   \n",
       "3   3  48.0  70.0  1.005  4.0  0.0  normal  abnormal     present  notpresent   \n",
       "4   4  51.0  80.0  1.010  2.0  0.0  normal    normal  notpresent  notpresent   \n",
       "\n",
       "   ...   pcv      wc        rc  htn   dm  cad  appet   pe  ane classification  \n",
       "0  ...  44.0  7800.0  5.200000  yes  yes   no   good   no   no            ckd  \n",
       "1  ...  38.0  6000.0  4.707435   no   no   no   good   no   no            ckd  \n",
       "2  ...  31.0  7500.0  4.707435   no  yes   no   poor   no  yes            ckd  \n",
       "3  ...  32.0  6700.0  3.900000  yes   no   no   poor  yes  yes            ckd  \n",
       "4  ...  35.0  7300.0  4.600000   no   no   no   good   no   no            ckd  \n",
       "\n",
       "[5 rows x 26 columns]"
      ]
     },
     "execution_count": 309,
     "metadata": {},
     "output_type": "execute_result"
    }
   ],
   "source": [
    "ckd.head()"
   ]
  },
  {
   "cell_type": "code",
   "execution_count": null,
   "id": "4ef736bb-34f1-4ca1-90fa-0f673a461cfb",
   "metadata": {
    "colab": {
     "base_uri": "https://localhost:8080/"
    },
    "id": "4ef736bb-34f1-4ca1-90fa-0f673a461cfb",
    "outputId": "c1a32383-390f-4f19-f081-4ff2bb03a9b9",
    "tags": []
   },
   "outputs": [
    {
     "name": "stdout",
     "output_type": "stream",
     "text": [
      "<class 'pandas.core.frame.DataFrame'>\n",
      "RangeIndex: 400 entries, 0 to 399\n",
      "Data columns (total 26 columns):\n",
      " #   Column          Non-Null Count  Dtype  \n",
      "---  ------          --------------  -----  \n",
      " 0   id              400 non-null    int64  \n",
      " 1   age             400 non-null    float64\n",
      " 2   bp              400 non-null    float64\n",
      " 3   sg              400 non-null    float64\n",
      " 4   al              400 non-null    float64\n",
      " 5   su              400 non-null    float64\n",
      " 6   rbc             400 non-null    object \n",
      " 7   pc              400 non-null    object \n",
      " 8   pcc             400 non-null    object \n",
      " 9   ba              400 non-null    object \n",
      " 10  bgr             400 non-null    float64\n",
      " 11  bu              400 non-null    float64\n",
      " 12  sc              400 non-null    float64\n",
      " 13  sod             400 non-null    float64\n",
      " 14  pot             400 non-null    float64\n",
      " 15  hemo            400 non-null    float64\n",
      " 16  pcv             400 non-null    float64\n",
      " 17  wc              400 non-null    float64\n",
      " 18  rc              400 non-null    float64\n",
      " 19  htn             400 non-null    object \n",
      " 20  dm              400 non-null    object \n",
      " 21  cad             400 non-null    object \n",
      " 22  appet           400 non-null    object \n",
      " 23  pe              400 non-null    object \n",
      " 24  ane             400 non-null    object \n",
      " 25  classification  400 non-null    object \n",
      "dtypes: float64(14), int64(1), object(11)\n",
      "memory usage: 81.4+ KB\n"
     ]
    }
   ],
   "source": [
    "ckd.info()"
   ]
  },
  {
   "cell_type": "markdown",
   "id": "b83e2784-1f3a-43ad-a255-1a2f058cb839",
   "metadata": {
    "id": "b83e2784-1f3a-43ad-a255-1a2f058cb839"
   },
   "source": [
    "# Class Distribution"
   ]
  },
  {
   "cell_type": "code",
   "execution_count": null,
   "id": "d4SoGRXpJIFz",
   "metadata": {
    "colab": {
     "base_uri": "https://localhost:8080/"
    },
    "id": "d4SoGRXpJIFz",
    "outputId": "c52843db-05e9-46ac-bbf4-7716661986b9"
   },
   "outputs": [
    {
     "name": "stdout",
     "output_type": "stream",
     "text": [
      "      id   age    bp     sg   al   su     rbc        pc         pcc  \\\n",
      "0      0  48.0  80.0  1.020  1.0  0.0  normal    normal  notpresent   \n",
      "1      1   7.0  50.0  1.020  4.0  0.0  normal    normal  notpresent   \n",
      "2      2  62.0  80.0  1.010  2.0  3.0  normal    normal  notpresent   \n",
      "3      3  48.0  70.0  1.005  4.0  0.0  normal  abnormal     present   \n",
      "4      4  51.0  80.0  1.010  2.0  0.0  normal    normal  notpresent   \n",
      "..   ...   ...   ...    ...  ...  ...     ...       ...         ...   \n",
      "395  395  55.0  80.0  1.020  0.0  0.0  normal    normal  notpresent   \n",
      "396  396  42.0  70.0  1.025  0.0  0.0  normal    normal  notpresent   \n",
      "397  397  12.0  80.0  1.020  0.0  0.0  normal    normal  notpresent   \n",
      "398  398  17.0  60.0  1.025  0.0  0.0  normal    normal  notpresent   \n",
      "399  399  58.0  80.0  1.025  0.0  0.0  normal    normal  notpresent   \n",
      "\n",
      "             ba  ...   pcv      wc        rc  htn   dm  cad  appet   pe  ane  \\\n",
      "0    notpresent  ...  44.0  7800.0  5.200000  yes  yes   no   good   no   no   \n",
      "1    notpresent  ...  38.0  6000.0  4.707435   no   no   no   good   no   no   \n",
      "2    notpresent  ...  31.0  7500.0  4.707435   no  yes   no   poor   no  yes   \n",
      "3    notpresent  ...  32.0  6700.0  3.900000  yes   no   no   poor  yes  yes   \n",
      "4    notpresent  ...  35.0  7300.0  4.600000   no   no   no   good   no   no   \n",
      "..          ...  ...   ...     ...       ...  ...  ...  ...    ...  ...  ...   \n",
      "395  notpresent  ...  47.0  6700.0  4.900000   no   no   no   good   no   no   \n",
      "396  notpresent  ...  54.0  7800.0  6.200000   no   no   no   good   no   no   \n",
      "397  notpresent  ...  49.0  6600.0  5.400000   no   no   no   good   no   no   \n",
      "398  notpresent  ...  51.0  7200.0  5.900000   no   no   no   good   no   no   \n",
      "399  notpresent  ...  53.0  6800.0  6.100000   no   no   no   good   no   no   \n",
      "\n",
      "    classification  \n",
      "0              ckd  \n",
      "1              ckd  \n",
      "2              ckd  \n",
      "3              ckd  \n",
      "4              ckd  \n",
      "..             ...  \n",
      "395         notckd  \n",
      "396         notckd  \n",
      "397         notckd  \n",
      "398         notckd  \n",
      "399         notckd  \n",
      "\n",
      "[400 rows x 26 columns]\n"
     ]
    }
   ],
   "source": [
    "ckd['classification'] = ckd['classification'].replace('ckd\\t', 'ckd')\n",
    "\n",
    "# Print the updated dataset\n",
    "print(ckd)"
   ]
  },
  {
   "cell_type": "code",
   "execution_count": null,
   "id": "5fbc26c0-37bd-41b8-8d51-3f36fc7acb5b",
   "metadata": {
    "colab": {
     "base_uri": "https://localhost:8080/"
    },
    "id": "5fbc26c0-37bd-41b8-8d51-3f36fc7acb5b",
    "outputId": "c9455c42-d753-4fda-c403-463f01e0b223",
    "tags": []
   },
   "outputs": [
    {
     "name": "stdout",
     "output_type": "stream",
     "text": [
      "ckd       62.5\n",
      "notckd    37.5\n",
      "Name: classification, dtype: float64\n"
     ]
    },
    {
     "data": {
      "image/png": "[encoded data removed]",
      "text/plain": [
       "<Figure size 640x480 with 1 Axes>"
      ]
     },
     "metadata": {},
     "output_type": "display_data"
    }
   ],
   "source": [
    "#Class Distribution\n",
    "class_counts_typ = ckd['classification'].value_counts()\n",
    "\n",
    "class_distribution_typ =class_counts_typ / len(ckd) *100\n",
    "\n",
    "print(class_distribution_typ)\n",
    "\n",
    "#plot a bar graph\n",
    "value = ckd['classification'].value_counts()\n",
    "\n",
    "plt.bar(value.index, value.values)\n",
    "\n",
    "plt.title('Classification')\n",
    "plt.xlabel('Result')\n",
    "plt.ylabel('Count')\n",
    "\n",
    "plt.show()"
   ]
  },
  {
   "cell_type": "markdown",
   "id": "06f3339d-b194-4886-8b67-04ecad43b8d6",
   "metadata": {
    "id": "06f3339d-b194-4886-8b67-04ecad43b8d6"
   },
   "source": [
    "# Data Transformation"
   ]
  },
  {
   "cell_type": "code",
   "execution_count": null,
   "id": "9aff8c2f-6c5b-4145-abad-ecf791b964cf",
   "metadata": {
    "colab": {
     "base_uri": "https://localhost:8080/"
    },
    "id": "9aff8c2f-6c5b-4145-abad-ecf791b964cf",
    "outputId": "8bee5b35-5d62-431a-f89d-103eafbb8cf3",
    "tags": []
   },
   "outputs": [
    {
     "name": "stdout",
     "output_type": "stream",
     "text": [
      "     rbc  pc\n",
      "0      1   1\n",
      "1      1   1\n",
      "2      1   1\n",
      "3      1   0\n",
      "4      1   1\n",
      "..   ...  ..\n",
      "395    1   1\n",
      "396    1   1\n",
      "397    1   1\n",
      "398    1   1\n",
      "399    1   1\n",
      "\n",
      "[400 rows x 2 columns]\n"
     ]
    }
   ],
   "source": [
    "# Select the features to be label encoded\n",
    "features_to_encode = ['rbc', 'pc']\n",
    "\n",
    "# Perform label encoding\n",
    "label_encoder = LabelEncoder()\n",
    "for feature in features_to_encode:\n",
    "    ckd[feature] = label_encoder.fit_transform(ckd[feature])\n",
    "\n",
    "# Print the transformed dataset\n",
    "print(ckd[features_to_encode])\n"
   ]
  },
  {
   "cell_type": "code",
   "execution_count": null,
   "id": "277c5038-fead-4733-af90-363fe7f9e22e",
   "metadata": {
    "colab": {
     "base_uri": "https://localhost:8080/"
    },
    "id": "277c5038-fead-4733-af90-363fe7f9e22e",
    "outputId": "3eb400fa-7f5a-4647-90c6-65e64bcdbb1a",
    "tags": []
   },
   "outputs": [
    {
     "name": "stdout",
     "output_type": "stream",
     "text": [
      "     pcc  ba\n",
      "0      0   0\n",
      "1      0   0\n",
      "2      0   0\n",
      "3      1   0\n",
      "4      0   0\n",
      "..   ...  ..\n",
      "395    0   0\n",
      "396    0   0\n",
      "397    0   0\n",
      "398    0   0\n",
      "399    0   0\n",
      "\n",
      "[400 rows x 2 columns]\n"
     ]
    }
   ],
   "source": [
    "# Select the features to be label encoded\n",
    "features_to_encode = ['pcc', 'ba']\n",
    "# Perform label encoding\n",
    "label_encoder = LabelEncoder()\n",
    "for feature in features_to_encode:\n",
    "    ckd[feature] = label_encoder.fit_transform(ckd[feature])\n",
    "\n",
    "# Print the transformed dataset\n",
    "print(ckd[features_to_encode])"
   ]
  },
  {
   "cell_type": "code",
   "execution_count": null,
   "id": "5e58f7a6-7667-4879-aafb-5c0ccd77ce8e",
   "metadata": {
    "colab": {
     "base_uri": "https://localhost:8080/"
    },
    "id": "5e58f7a6-7667-4879-aafb-5c0ccd77ce8e",
    "outputId": "bf1a144f-d0b3-4218-862b-711b7555ff45",
    "tags": []
   },
   "outputs": [
    {
     "name": "stdout",
     "output_type": "stream",
     "text": [
      "     htn  dm  cad  appet  pe  ane  classification\n",
      "0      1   4    1      0   0    0               0\n",
      "1      0   3    1      0   0    0               0\n",
      "2      0   4    1      1   0    1               0\n",
      "3      1   3    1      1   1    1               0\n",
      "4      0   3    1      0   0    0               0\n",
      "..   ...  ..  ...    ...  ..  ...             ...\n",
      "395    0   3    1      0   0    0               1\n",
      "396    0   3    1      0   0    0               1\n",
      "397    0   3    1      0   0    0               1\n",
      "398    0   3    1      0   0    0               1\n",
      "399    0   3    1      0   0    0               1\n",
      "\n",
      "[400 rows x 7 columns]\n"
     ]
    }
   ],
   "source": [
    "# Select the features to be label encoded\n",
    "features_to_encode = ['htn', 'dm','cad','appet','pe','ane','classification']\n",
    "# Perform label encoding\n",
    "label_encoder = LabelEncoder()\n",
    "for feature in features_to_encode:\n",
    "    ckd[feature] = label_encoder.fit_transform(ckd[feature])\n",
    "\n",
    "# Print the transformed dataset\n",
    "print(ckd[features_to_encode])"
   ]
  },
  {
   "cell_type": "code",
   "execution_count": null,
   "id": "892de319-6977-4e20-9f27-66dc15af371d",
   "metadata": {
    "colab": {
     "base_uri": "https://localhost:8080/"
    },
    "id": "892de319-6977-4e20-9f27-66dc15af371d",
    "outputId": "2d4e5297-aeb5-4eea-8355-fdc9aa1e49ab",
    "tags": []
   },
   "outputs": [
    {
     "name": "stdout",
     "output_type": "stream",
     "text": [
      "<class 'pandas.core.frame.DataFrame'>\n",
      "RangeIndex: 400 entries, 0 to 399\n",
      "Data columns (total 26 columns):\n",
      " #   Column          Non-Null Count  Dtype  \n",
      "---  ------          --------------  -----  \n",
      " 0   id              400 non-null    int64  \n",
      " 1   age             400 non-null    float64\n",
      " 2   bp              400 non-null    float64\n",
      " 3   sg              400 non-null    float64\n",
      " 4   al              400 non-null    float64\n",
      " 5   su              400 non-null    float64\n",
      " 6   rbc             400 non-null    int64  \n",
      " 7   pc              400 non-null    int64  \n",
      " 8   pcc             400 non-null    int64  \n",
      " 9   ba              400 non-null    int64  \n",
      " 10  bgr             400 non-null    float64\n",
      " 11  bu              400 non-null    float64\n",
      " 12  sc              400 non-null    float64\n",
      " 13  sod             400 non-null    float64\n",
      " 14  pot             400 non-null    float64\n",
      " 15  hemo            400 non-null    float64\n",
      " 16  pcv             400 non-null    float64\n",
      " 17  wc              400 non-null    float64\n",
      " 18  rc              400 non-null    float64\n",
      " 19  htn             400 non-null    int64  \n",
      " 20  dm              400 non-null    int64  \n",
      " 21  cad             400 non-null    int64  \n",
      " 22  appet           400 non-null    int64  \n",
      " 23  pe              400 non-null    int64  \n",
      " 24  ane             400 non-null    int64  \n",
      " 25  classification  400 non-null    int64  \n",
      "dtypes: float64(14), int64(12)\n",
      "memory usage: 81.4 KB\n"
     ]
    }
   ],
   "source": [
    "ckd.info()"
   ]
  },
  {
   "cell_type": "markdown",
   "id": "bbfc25bf-d912-4656-be16-468eadaf698e",
   "metadata": {
    "id": "bbfc25bf-d912-4656-be16-468eadaf698e"
   },
   "source": [
    "# Normalization"
   ]
  },
  {
   "cell_type": "code",
   "execution_count": null,
   "id": "eb69d96d-917d-4a7e-978c-2a56569b2456",
   "metadata": {
    "colab": {
     "base_uri": "https://localhost:8080/"
    },
    "id": "eb69d96d-917d-4a7e-978c-2a56569b2456",
    "outputId": "87843c65-41b9-4538-f263-372a9da0b153",
    "tags": []
   },
   "outputs": [
    {
     "data": {
      "image/png": "[encoded data removed]",
      "text/plain": [
       "<Figure size 1000x600 with 1 Axes>"
      ]
     },
     "metadata": {},
     "output_type": "display_data"
    },
    {
     "name": "stdout",
     "output_type": "stream",
     "text": [
      "Outliers in Age:\n",
      "[  1  75 131 150 185 186 187 188 190 215]\n",
      "Outliers in BGR:\n",
      "[  2   7  10  11  18  27  35  53  58  67  69  70  81  86  88  90  93  99\n",
      " 103 107 109 111 120 125 128 137 140 147 153 154 158 159 168 170 172 173\n",
      " 175 180 184 189 198 207 208 210 212 219 221 223 225 229 231 244 248]\n",
      "Outliers in BU:\n",
      "[ 15  20  21  22  30  34  43  50  56  57  58  61  76  84 103 106 122 126\n",
      " 127 128 130 132 133 142 143 145 153 154 174 177 178 184 191 193 196 210\n",
      " 212 229 238 246 249]\n",
      "Outliers in WC:\n",
      "[ 48  49  71  88 107 123 127 130 132 147 153 167 181 190 193 198 229]\n"
     ]
    }
   ],
   "source": [
    "## Outliers detection\n",
    "import matplotlib.pyplot as plt\n",
    "import numpy as np\n",
    "\n",
    "# Assuming you have a pandas DataFrame named 'ckd' with the relevant features\n",
    "\n",
    "# Create a box plot for each feature\n",
    "plt.figure(figsize=(10, 6))\n",
    "plt.boxplot([ckd['age'], ckd['bgr'], ckd['bu'], ckd['wc']], labels=['Age', 'BGR', 'BU', 'WC'])\n",
    "plt.title('Box Plot of Features')\n",
    "plt.ylabel('Values')\n",
    "plt.xlabel('Features')\n",
    "plt.show()\n",
    "\n",
    "# Define a function to identify outliers based on the box plot\n",
    "def identify_outliers(feature, feature_name):\n",
    "    q1 = np.percentile(feature, 25)\n",
    "    q3 = np.percentile(feature, 75)\n",
    "    iqr = q3 - q1\n",
    "    lower_bound = q1 - 1.5 * iqr\n",
    "    upper_bound = q3 + 1.5 * iqr\n",
    "    outliers = (feature < lower_bound) | (feature > upper_bound)\n",
    "\n",
    "    print('Outliers in {}:'.format(feature_name))\n",
    "    print(np.where(outliers)[0])\n",
    "\n",
    "# Identify outliers for each feature\n",
    "identify_outliers(ckd['age'], 'Age')\n",
    "identify_outliers(ckd['bgr'], 'BGR')\n",
    "identify_outliers(ckd['bu'], 'BU')\n",
    "identify_outliers(ckd['wc'], 'WC')\n"
   ]
  },
  {
   "cell_type": "code",
   "execution_count": null,
   "id": "0911f3a2-0a9d-4af3-8a7e-f999e378872e",
   "metadata": {
    "colab": {
     "base_uri": "https://localhost:8080/"
    },
    "id": "0911f3a2-0a9d-4af3-8a7e-f999e378872e",
    "outputId": "80c67b55-0973-42ea-fa21-dd0334fa688d",
    "tags": []
   },
   "outputs": [
    {
     "name": "stdout",
     "output_type": "stream",
     "text": [
      "        age       bgr        bu        wc\n",
      "0  0.522727  0.211538  0.088575  0.231405\n",
      "1  0.056818  0.269309  0.042362  0.157025\n",
      "2  0.681818  0.856838  0.132221  0.219008\n",
      "3  0.522727  0.202991  0.139923  0.185950\n",
      "4  0.556818  0.179487  0.062901  0.210744\n"
     ]
    }
   ],
   "source": [
    "from sklearn.preprocessing import MinMaxScaler\n",
    "\n",
    "# Assuming you have a pandas DataFrame named 'ckd' with the relevant attributes\n",
    "\n",
    "# Select the attributes to normalize\n",
    "attributes = ['age', 'bgr', 'bu', 'wc']\n",
    "\n",
    "# Create a new DataFrame to store the normalized values\n",
    "normalized_data = pd.DataFrame()\n",
    "\n",
    "# Perform min-max normalization\n",
    "scaler = MinMaxScaler()\n",
    "normalized_data[attributes] = scaler.fit_transform(ckd[attributes])\n",
    "\n",
    "# View the normalized data\n",
    "print(normalized_data.head())\n"
   ]
  },
  {
   "cell_type": "markdown",
   "id": "GMzchUEYF657",
   "metadata": {
    "id": "GMzchUEYF657"
   },
   "source": [
    "#Splitting the Dataset"
   ]
  },
  {
   "cell_type": "code",
   "execution_count": null,
   "id": "jWwZBa7Ejiqb",
   "metadata": {
    "id": "jWwZBa7Ejiqb"
   },
   "outputs": [],
   "source": [
    "X = ckd.drop('classification', axis=1)\n",
    "y = ckd['classification']"
   ]
  },
  {
   "cell_type": "code",
   "execution_count": null,
   "id": "3HDpcwHLLwbT",
   "metadata": {
    "colab": {
     "base_uri": "https://localhost:8080/"
    },
    "id": "3HDpcwHLLwbT",
    "outputId": "39e53422-95bb-448c-b363-5c4c69188f9e"
   },
   "outputs": [
    {
     "name": "stdout",
     "output_type": "stream",
     "text": [
      "      id   age    bp     sg   al   su  rbc  pc  pcc  ba  ...  hemo   pcv  \\\n",
      "0      0  48.0  80.0  1.020  1.0  0.0    1   1    0   0  ...  15.4  44.0   \n",
      "1      1   7.0  50.0  1.020  4.0  0.0    1   1    0   0  ...  11.3  38.0   \n",
      "2      2  62.0  80.0  1.010  2.0  3.0    1   1    0   0  ...   9.6  31.0   \n",
      "3      3  48.0  70.0  1.005  4.0  0.0    1   0    1   0  ...  11.2  32.0   \n",
      "4      4  51.0  80.0  1.010  2.0  0.0    1   1    0   0  ...  11.6  35.0   \n",
      "..   ...   ...   ...    ...  ...  ...  ...  ..  ...  ..  ...   ...   ...   \n",
      "395  395  55.0  80.0  1.020  0.0  0.0    1   1    0   0  ...  15.7  47.0   \n",
      "396  396  42.0  70.0  1.025  0.0  0.0    1   1    0   0  ...  16.5  54.0   \n",
      "397  397  12.0  80.0  1.020  0.0  0.0    1   1    0   0  ...  15.8  49.0   \n",
      "398  398  17.0  60.0  1.025  0.0  0.0    1   1    0   0  ...  14.2  51.0   \n",
      "399  399  58.0  80.0  1.025  0.0  0.0    1   1    0   0  ...  15.8  53.0   \n",
      "\n",
      "         wc        rc  htn  dm  cad  appet  pe  ane  \n",
      "0    7800.0  5.200000    1   4    1      0   0    0  \n",
      "1    6000.0  4.707435    0   3    1      0   0    0  \n",
      "2    7500.0  4.707435    0   4    1      1   0    1  \n",
      "3    6700.0  3.900000    1   3    1      1   1    1  \n",
      "4    7300.0  4.600000    0   3    1      0   0    0  \n",
      "..      ...       ...  ...  ..  ...    ...  ..  ...  \n",
      "395  6700.0  4.900000    0   3    1      0   0    0  \n",
      "396  7800.0  6.200000    0   3    1      0   0    0  \n",
      "397  6600.0  5.400000    0   3    1      0   0    0  \n",
      "398  7200.0  5.900000    0   3    1      0   0    0  \n",
      "399  6800.0  6.100000    0   3    1      0   0    0  \n",
      "\n",
      "[400 rows x 25 columns]\n"
     ]
    }
   ],
   "source": [
    "print(X)"
   ]
  },
  {
   "cell_type": "code",
   "execution_count": null,
   "id": "2b6BxQ9qLy3K",
   "metadata": {
    "colab": {
     "base_uri": "https://localhost:8080/"
    },
    "id": "2b6BxQ9qLy3K",
    "outputId": "4a110ad6-0e51-4794-b606-3b870a3f39be"
   },
   "outputs": [
    {
     "name": "stdout",
     "output_type": "stream",
     "text": [
      "0      0\n",
      "1      0\n",
      "2      0\n",
      "3      0\n",
      "4      0\n",
      "      ..\n",
      "395    1\n",
      "396    1\n",
      "397    1\n",
      "398    1\n",
      "399    1\n",
      "Name: classification, Length: 400, dtype: int64\n"
     ]
    }
   ],
   "source": [
    "print(y)"
   ]
  },
  {
   "cell_type": "markdown",
   "id": "3hVegnejpD1l",
   "metadata": {
    "id": "3hVegnejpD1l"
   },
   "source": [
    "# Data Balancing"
   ]
  },
  {
   "cell_type": "code",
   "execution_count": null,
   "id": "Q0zKrCITpHup",
   "metadata": {
    "id": "Q0zKrCITpHup"
   },
   "outputs": [],
   "source": [
    "smote = SMOTE()\n",
    "\n",
    "X_resampled, y_resampled = smote.fit_resample(X, y)\n",
    "\n",
    "resampled_data = X_resampled.copy()\n",
    "resampled_data['classification'] = y_resampled\n",
    "\n",
    "ckd = resampled_data"
   ]
  },
  {
   "cell_type": "code",
   "execution_count": null,
   "id": "MVPSfiPBvJ97",
   "metadata": {
    "colab": {
     "base_uri": "https://localhost:8080/"
    },
    "id": "MVPSfiPBvJ97",
    "outputId": "fb766e47-54a9-46b8-a072-cc591afcad8c"
   },
   "outputs": [
    {
     "data": {
      "text/plain": [
       "(500, 25)"
      ]
     },
     "execution_count": 184,
     "metadata": {},
     "output_type": "execute_result"
    }
   ],
   "source": [
    "X_resampled.shape"
   ]
  },
  {
   "cell_type": "code",
   "execution_count": null,
   "id": "XumFsDUTvN-2",
   "metadata": {
    "colab": {
     "base_uri": "https://localhost:8080/"
    },
    "id": "XumFsDUTvN-2",
    "outputId": "5b19b861-2155-4464-acad-88fc41f3b815"
   },
   "outputs": [
    {
     "data": {
      "text/plain": [
       "(500,)"
      ]
     },
     "execution_count": 185,
     "metadata": {},
     "output_type": "execute_result"
    }
   ],
   "source": [
    "y_resampled.shape"
   ]
  },
  {
   "cell_type": "code",
   "execution_count": null,
   "id": "EEHyRDLSt5Fp",
   "metadata": {
    "colab": {
     "base_uri": "https://localhost:8080/"
    },
    "id": "EEHyRDLSt5Fp",
    "outputId": "ff1e2af5-4377-476e-dcab-af700c9d746c"
   },
   "outputs": [
    {
     "data": {
      "text/plain": [
       "(500, 26)"
      ]
     },
     "execution_count": 186,
     "metadata": {},
     "output_type": "execute_result"
    }
   ],
   "source": [
    "ckd.shape"
   ]
  },
  {
   "cell_type": "code",
   "execution_count": null,
   "id": "OraC_pIgy-34",
   "metadata": {
    "id": "OraC_pIgy-34"
   },
   "outputs": [],
   "source": [
    "ckd.head()"
   ]
  },
  {
   "cell_type": "code",
   "execution_count": null,
   "id": "reWNeKberlf5",
   "metadata": {
    "colab": {
     "base_uri": "https://localhost:8080/",
     "height": 524
    },
    "id": "reWNeKberlf5",
    "outputId": "3a12d926-9343-42e8-85fa-f6d3063037d8"
   },
   "outputs": [
    {
     "name": "stdout",
     "output_type": "stream",
     "text": [
      "0    50.0\n",
      "1    50.0\n",
      "Name: classification, dtype: float64\n"
     ]
    },
    {
     "data": {
      "image/png": "[encoded data removed]",
      "text/plain": [
       "<Figure size 640x480 with 1 Axes>"
      ]
     },
     "metadata": {},
     "output_type": "display_data"
    }
   ],
   "source": [
    "#Class Distribution\n",
    "class_counts_typ = ckd['classification'].value_counts()\n",
    "\n",
    "class_distribution_typ =class_counts_typ / len(ckd) *100\n",
    "\n",
    "print(class_distribution_typ)\n",
    "\n",
    "#plot a bar graph\n",
    "value = ckd['classification'].value_counts()\n",
    "\n",
    "plt.bar(value.index, value.values)\n",
    "\n",
    "plt.title('Classification')\n",
    "plt.xlabel('Result')\n",
    "plt.ylabel('Count')\n",
    "\n",
    "plt.show()"
   ]
  },
  {
   "cell_type": "markdown",
   "id": "VTMQT0TxWsXk",
   "metadata": {
    "id": "VTMQT0TxWsXk"
   },
   "source": [
    "#Drop unnecessary feature"
   ]
  },
  {
   "cell_type": "code",
   "execution_count": null,
   "id": "OOng5FoTWxtK",
   "metadata": {
    "id": "OOng5FoTWxtK"
   },
   "outputs": [],
   "source": [
    "ckd.drop('id', axis = 1, inplace = True)"
   ]
  },
  {
   "cell_type": "code",
   "execution_count": null,
   "id": "fF6V1u1cW3pU",
   "metadata": {
    "colab": {
     "base_uri": "https://localhost:8080/"
    },
    "id": "fF6V1u1cW3pU",
    "outputId": "cffb15a7-81fc-42f0-dd39-cd91ec55e36e"
   },
   "outputs": [
    {
     "data": {
      "text/html": [
       "\n",
       "  <div id=\"df-fa66df5a-6c29-46a3-8d11-accb904f1f2d\">\n",
       "    <div class=\"colab-df-container\">\n",
       "      <div>\n",
       "<style scoped>\n",
       "    .dataframe tbody tr th:only-of-type {\n",
       "        vertical-align: middle;\n",
       "    }\n",
       "\n",
       "    .dataframe tbody tr th {\n",
       "        vertical-align: top;\n",
       "    }\n",
       "\n",
       "    .dataframe thead th {\n",
       "        text-align: right;\n",
       "    }\n",
       "</style>\n",
       "<table border=\"1\" class=\"dataframe\">\n",
       "  <thead>\n",
       "    <tr style=\"text-align: right;\">\n",
       "      <th></th>\n",
       "      <th>age</th>\n",
       "      <th>bp</th>\n",
       "      <th>sg</th>\n",
       "      <th>al</th>\n",
       "      <th>su</th>\n",
       "      <th>rbc</th>\n",
       "      <th>pc</th>\n",
       "      <th>pcc</th>\n",
       "      <th>ba</th>\n",
       "      <th>bgr</th>\n",
       "      <th>...</th>\n",
       "      <th>pcv</th>\n",
       "      <th>wc</th>\n",
       "      <th>rc</th>\n",
       "      <th>htn</th>\n",
       "      <th>dm</th>\n",
       "      <th>cad</th>\n",
       "      <th>appet</th>\n",
       "      <th>pe</th>\n",
       "      <th>ane</th>\n",
       "      <th>classification</th>\n",
       "    </tr>\n",
       "  </thead>\n",
       "  <tbody>\n",
       "    <tr>\n",
       "      <th>0</th>\n",
       "      <td>48.0</td>\n",
       "      <td>80.0</td>\n",
       "      <td>1.020</td>\n",
       "      <td>1.0</td>\n",
       "      <td>0.0</td>\n",
       "      <td>1</td>\n",
       "      <td>1</td>\n",
       "      <td>0</td>\n",
       "      <td>0</td>\n",
       "      <td>121.000000</td>\n",
       "      <td>...</td>\n",
       "      <td>44.0</td>\n",
       "      <td>7800.0</td>\n",
       "      <td>5.200000</td>\n",
       "      <td>1</td>\n",
       "      <td>4</td>\n",
       "      <td>1</td>\n",
       "      <td>0</td>\n",
       "      <td>0</td>\n",
       "      <td>0</td>\n",
       "      <td>0</td>\n",
       "    </tr>\n",
       "    <tr>\n",
       "      <th>1</th>\n",
       "      <td>7.0</td>\n",
       "      <td>50.0</td>\n",
       "      <td>1.020</td>\n",
       "      <td>4.0</td>\n",
       "      <td>0.0</td>\n",
       "      <td>1</td>\n",
       "      <td>1</td>\n",
       "      <td>0</td>\n",
       "      <td>0</td>\n",
       "      <td>148.036517</td>\n",
       "      <td>...</td>\n",
       "      <td>38.0</td>\n",
       "      <td>6000.0</td>\n",
       "      <td>4.707435</td>\n",
       "      <td>0</td>\n",
       "      <td>3</td>\n",
       "      <td>1</td>\n",
       "      <td>0</td>\n",
       "      <td>0</td>\n",
       "      <td>0</td>\n",
       "      <td>0</td>\n",
       "    </tr>\n",
       "    <tr>\n",
       "      <th>2</th>\n",
       "      <td>62.0</td>\n",
       "      <td>80.0</td>\n",
       "      <td>1.010</td>\n",
       "      <td>2.0</td>\n",
       "      <td>3.0</td>\n",
       "      <td>1</td>\n",
       "      <td>1</td>\n",
       "      <td>0</td>\n",
       "      <td>0</td>\n",
       "      <td>423.000000</td>\n",
       "      <td>...</td>\n",
       "      <td>31.0</td>\n",
       "      <td>7500.0</td>\n",
       "      <td>4.707435</td>\n",
       "      <td>0</td>\n",
       "      <td>4</td>\n",
       "      <td>1</td>\n",
       "      <td>1</td>\n",
       "      <td>0</td>\n",
       "      <td>1</td>\n",
       "      <td>0</td>\n",
       "    </tr>\n",
       "    <tr>\n",
       "      <th>3</th>\n",
       "      <td>48.0</td>\n",
       "      <td>70.0</td>\n",
       "      <td>1.005</td>\n",
       "      <td>4.0</td>\n",
       "      <td>0.0</td>\n",
       "      <td>1</td>\n",
       "      <td>0</td>\n",
       "      <td>1</td>\n",
       "      <td>0</td>\n",
       "      <td>117.000000</td>\n",
       "      <td>...</td>\n",
       "      <td>32.0</td>\n",
       "      <td>6700.0</td>\n",
       "      <td>3.900000</td>\n",
       "      <td>1</td>\n",
       "      <td>3</td>\n",
       "      <td>1</td>\n",
       "      <td>1</td>\n",
       "      <td>1</td>\n",
       "      <td>1</td>\n",
       "      <td>0</td>\n",
       "    </tr>\n",
       "    <tr>\n",
       "      <th>4</th>\n",
       "      <td>51.0</td>\n",
       "      <td>80.0</td>\n",
       "      <td>1.010</td>\n",
       "      <td>2.0</td>\n",
       "      <td>0.0</td>\n",
       "      <td>1</td>\n",
       "      <td>1</td>\n",
       "      <td>0</td>\n",
       "      <td>0</td>\n",
       "      <td>106.000000</td>\n",
       "      <td>...</td>\n",
       "      <td>35.0</td>\n",
       "      <td>7300.0</td>\n",
       "      <td>4.600000</td>\n",
       "      <td>0</td>\n",
       "      <td>3</td>\n",
       "      <td>1</td>\n",
       "      <td>0</td>\n",
       "      <td>0</td>\n",
       "      <td>0</td>\n",
       "      <td>0</td>\n",
       "    </tr>\n",
       "  </tbody>\n",
       "</table>\n",
       "<p>5 rows × 25 columns</p>\n",
       "</div>\n",
       "      <button class=\"colab-df-convert\" onclick=\"convertToInteractive('df-fa66df5a-6c29-46a3-8d11-accb904f1f2d')\"\n",
       "              title=\"Convert this dataframe to an interactive table.\"\n",
       "              style=\"display:none;\">\n",
       "        \n",
       "  <svg xmlns=\"http://www.w3.org/2000/svg\" height=\"24px\"viewBox=\"0 0 24 24\"\n",
       "       width=\"24px\">\n",
       "    <path d=\"M0 0h24v24H0V0z\" fill=\"none\"/>\n",
       "    <path d=\"M18.56 5.44l.94 2.06.94-2.06 2.06-.94-2.06-.94-.94-2.06-.94 2.06-2.06.94zm-11 1L8.5 8.5l.94-2.06 2.06-.94-2.06-.94L8.5 2.5l-.94 2.06-2.06.94zm10 10l.94 2.06.94-2.06 2.06-.94-2.06-.94-.94-2.06-.94 2.06-2.06.94z\"/><path d=\"M17.41 7.96l-1.37-1.37c-.4-.4-.92-.59-1.43-.59-.52 0-1.04.2-1.43.59L10.3 9.45l-7.72 7.72c-.78.78-.78 2.05 0 2.83L4 21.41c.39.39.9.59 1.41.59.51 0 1.02-.2 1.41-.59l7.78-7.78 2.81-2.81c.8-.78.8-2.07 0-2.86zM5.41 20L4 18.59l7.72-7.72 1.47 1.35L5.41 20z\"/>\n",
       "  </svg>\n",
       "      </button>\n",
       "      \n",
       "  <style>\n",
       "    .colab-df-container {\n",
       "      display:flex;\n",
       "      flex-wrap:wrap;\n",
       "      gap: 12px;\n",
       "    }\n",
       "\n",
       "    .colab-df-convert {\n",
       "      background-color: #E8F0FE;\n",
       "      border: none;\n",
       "      border-radius: 50%;\n",
       "      cursor: pointer;\n",
       "      display: none;\n",
       "      fill: #1967D2;\n",
       "      height: 32px;\n",
       "      padding: 0 0 0 0;\n",
       "      width: 32px;\n",
       "    }\n",
       "\n",
       "    .colab-df-convert:hover {\n",
       "      background-color: #E2EBFA;\n",
       "      box-shadow: 0px 1px 2px rgba(60, 64, 67, 0.3), 0px 1px 3px 1px rgba(60, 64, 67, 0.15);\n",
       "      fill: #174EA6;\n",
       "    }\n",
       "\n",
       "    [theme=dark] .colab-df-convert {\n",
       "      background-color: #3B4455;\n",
       "      fill: #D2E3FC;\n",
       "    }\n",
       "\n",
       "    [theme=dark] .colab-df-convert:hover {\n",
       "      background-color: #434B5C;\n",
       "      box-shadow: 0px 1px 3px 1px rgba(0, 0, 0, 0.15);\n",
       "      filter: drop-shadow(0px 1px 2px rgba(0, 0, 0, 0.3));\n",
       "      fill: #FFFFFF;\n",
       "    }\n",
       "  </style>\n",
       "\n",
       "      <script>\n",
       "        const buttonEl =\n",
       "          document.querySelector('#df-fa66df5a-6c29-46a3-8d11-accb904f1f2d button.colab-df-convert');\n",
       "        buttonEl.style.display =\n",
       "          google.colab.kernel.accessAllowed ? 'block' : 'none';\n",
       "\n",
       "        async function convertToInteractive(key) {\n",
       "          const element = document.querySelector('#df-fa66df5a-6c29-46a3-8d11-accb904f1f2d');\n",
       "          const dataTable =\n",
       "            await google.colab.kernel.invokeFunction('convertToInteractive',\n",
       "                                                     [key], {});\n",
       "          if (!dataTable) return;\n",
       "\n",
       "          const docLinkHtml = 'Like what you see? Visit the ' +\n",
       "            '<a target=\"_blank\" href=https://colab.research.google.com/notebooks/data_table.ipynb>data table notebook</a>'\n",
       "            + ' to learn more about interactive tables.';\n",
       "          element.innerHTML = '';\n",
       "          dataTable['output_type'] = 'display_data';\n",
       "          await google.colab.output.renderOutput(dataTable, element);\n",
       "          const docLink = document.createElement('div');\n",
       "          docLink.innerHTML = docLinkHtml;\n",
       "          element.appendChild(docLink);\n",
       "        }\n",
       "      </script>\n",
       "    </div>\n",
       "  </div>\n",
       "  "
      ],
      "text/plain": [
       "    age    bp     sg   al   su  rbc  pc  pcc  ba         bgr  ...   pcv  \\\n",
       "0  48.0  80.0  1.020  1.0  0.0    1   1    0   0  121.000000  ...  44.0   \n",
       "1   7.0  50.0  1.020  4.0  0.0    1   1    0   0  148.036517  ...  38.0   \n",
       "2  62.0  80.0  1.010  2.0  3.0    1   1    0   0  423.000000  ...  31.0   \n",
       "3  48.0  70.0  1.005  4.0  0.0    1   0    1   0  117.000000  ...  32.0   \n",
       "4  51.0  80.0  1.010  2.0  0.0    1   1    0   0  106.000000  ...  35.0   \n",
       "\n",
       "       wc        rc  htn  dm  cad  appet  pe  ane  classification  \n",
       "0  7800.0  5.200000    1   4    1      0   0    0               0  \n",
       "1  6000.0  4.707435    0   3    1      0   0    0               0  \n",
       "2  7500.0  4.707435    0   4    1      1   0    1               0  \n",
       "3  6700.0  3.900000    1   3    1      1   1    1               0  \n",
       "4  7300.0  4.600000    0   3    1      0   0    0               0  \n",
       "\n",
       "[5 rows x 25 columns]"
      ]
     },
     "execution_count": 323,
     "metadata": {},
     "output_type": "execute_result"
    }
   ],
   "source": [
    "ckd.head()"
   ]
  },
  {
   "cell_type": "markdown",
   "id": "d7f31868-1e8d-47bd-a4d6-7ab72b3fffe2",
   "metadata": {
    "id": "d7f31868-1e8d-47bd-a4d6-7ab72b3fffe2"
   },
   "source": [
    "# BORUTA"
   ]
  },
  {
   "cell_type": "code",
   "execution_count": null,
   "id": "bktgitKJxzHR",
   "metadata": {
    "colab": {
     "base_uri": "https://localhost:8080/"
    },
    "id": "bktgitKJxzHR",
    "outputId": "61b80e17-a9d1-4f65-825e-a210feca55be"
   },
   "outputs": [
    {
     "name": "stdout",
     "output_type": "stream",
     "text": [
      "Iteration: \t1 / 100\n",
      "Confirmed: \t0\n",
      "Tentative: \t24\n",
      "Rejected: \t0\n",
      "Iteration: \t2 / 100\n",
      "Confirmed: \t0\n",
      "Tentative: \t24\n",
      "Rejected: \t0\n",
      "Iteration: \t3 / 100\n",
      "Confirmed: \t0\n",
      "Tentative: \t24\n",
      "Rejected: \t0\n",
      "Iteration: \t4 / 100\n",
      "Confirmed: \t0\n",
      "Tentative: \t24\n",
      "Rejected: \t0\n",
      "Iteration: \t5 / 100\n",
      "Confirmed: \t0\n",
      "Tentative: \t24\n",
      "Rejected: \t0\n",
      "Iteration: \t6 / 100\n",
      "Confirmed: \t0\n",
      "Tentative: \t24\n",
      "Rejected: \t0\n",
      "Iteration: \t7 / 100\n",
      "Confirmed: \t0\n",
      "Tentative: \t24\n",
      "Rejected: \t0\n",
      "Iteration: \t8 / 100\n",
      "Confirmed: \t13\n",
      "Tentative: \t8\n",
      "Rejected: \t3\n",
      "Iteration: \t9 / 100\n",
      "Confirmed: \t13\n",
      "Tentative: \t8\n",
      "Rejected: \t3\n",
      "Iteration: \t10 / 100\n",
      "Confirmed: \t13\n",
      "Tentative: \t8\n",
      "Rejected: \t3\n",
      "Iteration: \t11 / 100\n",
      "Confirmed: \t13\n",
      "Tentative: \t8\n",
      "Rejected: \t3\n",
      "Iteration: \t12 / 100\n",
      "Confirmed: \t14\n",
      "Tentative: \t7\n",
      "Rejected: \t3\n",
      "Iteration: \t13 / 100\n",
      "Confirmed: \t14\n",
      "Tentative: \t7\n",
      "Rejected: \t3\n",
      "Iteration: \t14 / 100\n",
      "Confirmed: \t14\n",
      "Tentative: \t7\n",
      "Rejected: \t3\n",
      "Iteration: \t15 / 100\n",
      "Confirmed: \t14\n",
      "Tentative: \t7\n",
      "Rejected: \t3\n",
      "Iteration: \t16 / 100\n",
      "Confirmed: \t15\n",
      "Tentative: \t6\n",
      "Rejected: \t3\n",
      "Iteration: \t17 / 100\n",
      "Confirmed: \t15\n",
      "Tentative: \t6\n",
      "Rejected: \t3\n",
      "Iteration: \t18 / 100\n",
      "Confirmed: \t15\n",
      "Tentative: \t6\n",
      "Rejected: \t3\n",
      "Iteration: \t19 / 100\n",
      "Confirmed: \t15\n",
      "Tentative: \t6\n",
      "Rejected: \t3\n",
      "Iteration: \t20 / 100\n",
      "Confirmed: \t15\n",
      "Tentative: \t6\n",
      "Rejected: \t3\n",
      "Iteration: \t21 / 100\n",
      "Confirmed: \t15\n",
      "Tentative: \t6\n",
      "Rejected: \t3\n",
      "Iteration: \t22 / 100\n",
      "Confirmed: \t15\n",
      "Tentative: \t6\n",
      "Rejected: \t3\n",
      "Iteration: \t23 / 100\n",
      "Confirmed: \t15\n",
      "Tentative: \t6\n",
      "Rejected: \t3\n",
      "Iteration: \t24 / 100\n",
      "Confirmed: \t15\n",
      "Tentative: \t6\n",
      "Rejected: \t3\n",
      "Iteration: \t25 / 100\n",
      "Confirmed: \t15\n",
      "Tentative: \t6\n",
      "Rejected: \t3\n",
      "Iteration: \t26 / 100\n",
      "Confirmed: \t15\n",
      "Tentative: \t6\n",
      "Rejected: \t3\n",
      "Iteration: \t27 / 100\n",
      "Confirmed: \t15\n",
      "Tentative: \t6\n",
      "Rejected: \t3\n",
      "Iteration: \t28 / 100\n",
      "Confirmed: \t15\n",
      "Tentative: \t6\n",
      "Rejected: \t3\n",
      "Iteration: \t29 / 100\n",
      "Confirmed: \t15\n",
      "Tentative: \t5\n",
      "Rejected: \t4\n",
      "Iteration: \t30 / 100\n",
      "Confirmed: \t15\n",
      "Tentative: \t5\n",
      "Rejected: \t4\n",
      "Iteration: \t31 / 100\n",
      "Confirmed: \t15\n",
      "Tentative: \t5\n",
      "Rejected: \t4\n",
      "Iteration: \t32 / 100\n",
      "Confirmed: \t15\n",
      "Tentative: \t5\n",
      "Rejected: \t4\n",
      "Iteration: \t33 / 100\n",
      "Confirmed: \t15\n",
      "Tentative: \t5\n",
      "Rejected: \t4\n",
      "Iteration: \t34 / 100\n",
      "Confirmed: \t15\n",
      "Tentative: \t5\n",
      "Rejected: \t4\n",
      "Iteration: \t35 / 100\n",
      "Confirmed: \t15\n",
      "Tentative: \t5\n",
      "Rejected: \t4\n",
      "Iteration: \t36 / 100\n",
      "Confirmed: \t15\n",
      "Tentative: \t5\n",
      "Rejected: \t4\n",
      "Iteration: \t37 / 100\n",
      "Confirmed: \t15\n",
      "Tentative: \t5\n",
      "Rejected: \t4\n",
      "Iteration: \t38 / 100\n",
      "Confirmed: \t15\n",
      "Tentative: \t5\n",
      "Rejected: \t4\n",
      "Iteration: \t39 / 100\n",
      "Confirmed: \t15\n",
      "Tentative: \t5\n",
      "Rejected: \t4\n",
      "Iteration: \t40 / 100\n",
      "Confirmed: \t15\n",
      "Tentative: \t5\n",
      "Rejected: \t4\n",
      "Iteration: \t41 / 100\n",
      "Confirmed: \t15\n",
      "Tentative: \t5\n",
      "Rejected: \t4\n",
      "Iteration: \t42 / 100\n",
      "Confirmed: \t15\n",
      "Tentative: \t5\n",
      "Rejected: \t4\n",
      "Iteration: \t43 / 100\n",
      "Confirmed: \t16\n",
      "Tentative: \t4\n",
      "Rejected: \t4\n",
      "Iteration: \t44 / 100\n",
      "Confirmed: \t16\n",
      "Tentative: \t4\n",
      "Rejected: \t4\n",
      "Iteration: \t45 / 100\n",
      "Confirmed: \t16\n",
      "Tentative: \t4\n",
      "Rejected: \t4\n",
      "Iteration: \t46 / 100\n",
      "Confirmed: \t16\n",
      "Tentative: \t4\n",
      "Rejected: \t4\n",
      "Iteration: \t47 / 100\n",
      "Confirmed: \t16\n",
      "Tentative: \t4\n",
      "Rejected: \t4\n",
      "Iteration: \t48 / 100\n",
      "Confirmed: \t16\n",
      "Tentative: \t4\n",
      "Rejected: \t4\n",
      "Iteration: \t49 / 100\n",
      "Confirmed: \t16\n",
      "Tentative: \t4\n",
      "Rejected: \t4\n",
      "Iteration: \t50 / 100\n",
      "Confirmed: \t16\n",
      "Tentative: \t4\n",
      "Rejected: \t4\n",
      "Iteration: \t51 / 100\n",
      "Confirmed: \t16\n",
      "Tentative: \t3\n",
      "Rejected: \t5\n",
      "Iteration: \t52 / 100\n",
      "Confirmed: \t16\n",
      "Tentative: \t3\n",
      "Rejected: \t5\n",
      "Iteration: \t53 / 100\n",
      "Confirmed: \t16\n",
      "Tentative: \t3\n",
      "Rejected: \t5\n",
      "Iteration: \t54 / 100\n",
      "Confirmed: \t16\n",
      "Tentative: \t3\n",
      "Rejected: \t5\n",
      "Iteration: \t55 / 100\n",
      "Confirmed: \t16\n",
      "Tentative: \t3\n",
      "Rejected: \t5\n",
      "Iteration: \t56 / 100\n",
      "Confirmed: \t16\n",
      "Tentative: \t3\n",
      "Rejected: \t5\n",
      "Iteration: \t57 / 100\n",
      "Confirmed: \t16\n",
      "Tentative: \t3\n",
      "Rejected: \t5\n",
      "Iteration: \t58 / 100\n",
      "Confirmed: \t16\n",
      "Tentative: \t3\n",
      "Rejected: \t5\n",
      "Iteration: \t59 / 100\n",
      "Confirmed: \t16\n",
      "Tentative: \t3\n",
      "Rejected: \t5\n",
      "Iteration: \t60 / 100\n",
      "Confirmed: \t16\n",
      "Tentative: \t3\n",
      "Rejected: \t5\n",
      "Iteration: \t61 / 100\n",
      "Confirmed: \t16\n",
      "Tentative: \t3\n",
      "Rejected: \t5\n",
      "Iteration: \t62 / 100\n",
      "Confirmed: \t16\n",
      "Tentative: \t3\n",
      "Rejected: \t5\n",
      "Iteration: \t63 / 100\n",
      "Confirmed: \t16\n",
      "Tentative: \t3\n",
      "Rejected: \t5\n",
      "Iteration: \t64 / 100\n",
      "Confirmed: \t16\n",
      "Tentative: \t3\n",
      "Rejected: \t5\n",
      "Iteration: \t65 / 100\n",
      "Confirmed: \t16\n",
      "Tentative: \t3\n",
      "Rejected: \t5\n",
      "Iteration: \t66 / 100\n",
      "Confirmed: \t16\n",
      "Tentative: \t3\n",
      "Rejected: \t5\n",
      "Iteration: \t67 / 100\n",
      "Confirmed: \t16\n",
      "Tentative: \t3\n",
      "Rejected: \t5\n",
      "Iteration: \t68 / 100\n",
      "Confirmed: \t16\n",
      "Tentative: \t3\n",
      "Rejected: \t5\n",
      "Iteration: \t69 / 100\n",
      "Confirmed: \t16\n",
      "Tentative: \t3\n",
      "Rejected: \t5\n",
      "Iteration: \t70 / 100\n",
      "Confirmed: \t16\n",
      "Tentative: \t3\n",
      "Rejected: \t5\n",
      "Iteration: \t71 / 100\n",
      "Confirmed: \t16\n",
      "Tentative: \t3\n",
      "Rejected: \t5\n",
      "Iteration: \t72 / 100\n",
      "Confirmed: \t16\n",
      "Tentative: \t3\n",
      "Rejected: \t5\n",
      "Iteration: \t73 / 100\n",
      "Confirmed: \t16\n",
      "Tentative: \t3\n",
      "Rejected: \t5\n",
      "Iteration: \t74 / 100\n",
      "Confirmed: \t16\n",
      "Tentative: \t3\n",
      "Rejected: \t5\n",
      "Iteration: \t75 / 100\n",
      "Confirmed: \t16\n",
      "Tentative: \t3\n",
      "Rejected: \t5\n",
      "Iteration: \t76 / 100\n",
      "Confirmed: \t16\n",
      "Tentative: \t3\n",
      "Rejected: \t5\n",
      "Iteration: \t77 / 100\n",
      "Confirmed: \t16\n",
      "Tentative: \t3\n",
      "Rejected: \t5\n",
      "Iteration: \t78 / 100\n",
      "Confirmed: \t16\n",
      "Tentative: \t3\n",
      "Rejected: \t5\n",
      "Iteration: \t79 / 100\n",
      "Confirmed: \t16\n",
      "Tentative: \t3\n",
      "Rejected: \t5\n",
      "Iteration: \t80 / 100\n",
      "Confirmed: \t16\n",
      "Tentative: \t3\n",
      "Rejected: \t5\n",
      "Iteration: \t81 / 100\n",
      "Confirmed: \t16\n",
      "Tentative: \t3\n",
      "Rejected: \t5\n",
      "Iteration: \t82 / 100\n",
      "Confirmed: \t16\n",
      "Tentative: \t3\n",
      "Rejected: \t5\n",
      "Iteration: \t83 / 100\n",
      "Confirmed: \t16\n",
      "Tentative: \t3\n",
      "Rejected: \t5\n",
      "Iteration: \t84 / 100\n",
      "Confirmed: \t16\n",
      "Tentative: \t3\n",
      "Rejected: \t5\n",
      "Iteration: \t85 / 100\n",
      "Confirmed: \t16\n",
      "Tentative: \t3\n",
      "Rejected: \t5\n",
      "Iteration: \t86 / 100\n",
      "Confirmed: \t16\n",
      "Tentative: \t3\n",
      "Rejected: \t5\n",
      "Iteration: \t87 / 100\n",
      "Confirmed: \t16\n",
      "Tentative: \t3\n",
      "Rejected: \t5\n",
      "Iteration: \t88 / 100\n",
      "Confirmed: \t16\n",
      "Tentative: \t3\n",
      "Rejected: \t5\n",
      "Iteration: \t89 / 100\n",
      "Confirmed: \t16\n",
      "Tentative: \t3\n",
      "Rejected: \t5\n",
      "Iteration: \t90 / 100\n",
      "Confirmed: \t16\n",
      "Tentative: \t3\n",
      "Rejected: \t5\n",
      "Iteration: \t91 / 100\n",
      "Confirmed: \t16\n",
      "Tentative: \t3\n",
      "Rejected: \t5\n",
      "Iteration: \t92 / 100\n",
      "Confirmed: \t16\n",
      "Tentative: \t3\n",
      "Rejected: \t5\n",
      "Iteration: \t93 / 100\n",
      "Confirmed: \t16\n",
      "Tentative: \t3\n",
      "Rejected: \t5\n",
      "Iteration: \t94 / 100\n",
      "Confirmed: \t16\n",
      "Tentative: \t3\n",
      "Rejected: \t5\n",
      "Iteration: \t95 / 100\n",
      "Confirmed: \t16\n",
      "Tentative: \t3\n",
      "Rejected: \t5\n",
      "Iteration: \t96 / 100\n",
      "Confirmed: \t16\n",
      "Tentative: \t3\n",
      "Rejected: \t5\n",
      "Iteration: \t97 / 100\n",
      "Confirmed: \t16\n",
      "Tentative: \t3\n",
      "Rejected: \t5\n",
      "Iteration: \t98 / 100\n",
      "Confirmed: \t16\n",
      "Tentative: \t3\n",
      "Rejected: \t5\n",
      "Iteration: \t99 / 100\n",
      "Confirmed: \t16\n",
      "Tentative: \t3\n",
      "Rejected: \t5\n",
      "\n",
      "\n",
      "BorutaPy finished running.\n",
      "\n",
      "Iteration: \t100 / 100\n",
      "Confirmed: \t16\n",
      "Tentative: \t2\n",
      "Rejected: \t5\n",
      "Selected features: ['age', 'bp', 'sg', 'al', 'su', 'bgr', 'bu', 'sc', 'sod', 'hemo', 'pcv', 'rc', 'htn', 'dm', 'appet', 'pe']\n"
     ]
    }
   ],
   "source": [
    "X = ckd.iloc[:, :-1].values\n",
    "y = ckd.iloc[:, -1].values\n",
    "\n",
    "# Define the random forest classifier\n",
    "rf = RandomForestClassifier(n_estimators=100, n_jobs= -1)\n",
    "\n",
    "# Define the Boruta feature selection method\n",
    "boruta = BorutaPy(rf, n_estimators='auto', verbose=2)\n",
    "\n",
    "# Perform feature selection\n",
    "boruta.fit(X, y)\n",
    "\n",
    "# Print the selected features\n",
    "selected_features = ckd.columns[:-1][boruta.support_].tolist()\n",
    "print(\"Selected features:\", selected_features)"
   ]
  },
  {
   "cell_type": "markdown",
   "id": "1861d10b-8dd5-499f-9ce0-167d7518a051",
   "metadata": {
    "id": "1861d10b-8dd5-499f-9ce0-167d7518a051",
    "tags": []
   },
   "source": [
    "## K - NN"
   ]
  },
  {
   "cell_type": "code",
   "execution_count": null,
   "id": "a3c2391e-1c2c-42df-8b8f-1d6d4bff8cbe",
   "metadata": {
    "colab": {
     "base_uri": "https://localhost:8080/"
    },
    "id": "a3c2391e-1c2c-42df-8b8f-1d6d4bff8cbe",
    "outputId": "d1e31267-d220-4961-f3d8-9689e437005b",
    "tags": []
   },
   "outputs": [
    {
     "name": "stdout",
     "output_type": "stream",
     "text": [
      "Fold 1: Accuracy = 0.8750\n",
      "Fold 2: Accuracy = 0.8750\n",
      "Fold 3: Accuracy = 0.9000\n",
      "Fold 4: Accuracy = 0.8500\n",
      "Fold 5: Accuracy = 0.8000\n",
      "Fold 6: Accuracy = 0.9500\n",
      "Fold 7: Accuracy = 0.8500\n",
      "Fold 8: Accuracy = 0.8750\n",
      "Fold 9: Accuracy = 0.8750\n",
      "Fold 10: Accuracy = 0.9250\n",
      "Accuracy for K-NN: 0.8775\n"
     ]
    }
   ],
   "source": [
    "# Use consensus selected features with your classifier\n",
    "x_selected = ckd[selected_features]\n",
    "\n",
    "# Create the K-Nearest Neighbors classifier\n",
    "knn = KNeighborsClassifier(n_neighbors=5)\n",
    "\n",
    "# Perform cross-validation with 10 folds\n",
    "scores = cross_val_score(knn, x_selected, y, cv=10)\n",
    "\n",
    "# Print the accuracy for each fold\n",
    "for i, score in enumerate(scores, 1):\n",
    "    print(\"Fold {}: Accuracy = {:.4f}\".format(i, score))\n",
    "\n",
    "# Calculate and print the mean accuracy and standard deviation of the cross-validation scores\n",
    "mean_accuracy = scores.mean()\n",
    "\n",
    "# Print the results\n",
    "print(\"Accuracy for K-NN: %0.4f\" % (mean_accuracy))\n"
   ]
  },
  {
   "cell_type": "markdown",
   "id": "tK2m5COnUkam",
   "metadata": {
    "id": "tK2m5COnUkam"
   },
   "source": [
    "## Naive Bayesian"
   ]
  },
  {
   "cell_type": "code",
   "execution_count": null,
   "id": "lGE4IHEkUn4l",
   "metadata": {
    "colab": {
     "base_uri": "https://localhost:8080/"
    },
    "id": "lGE4IHEkUn4l",
    "outputId": "3735eefd-8af4-496a-ea0d-c0ed9a88e26a"
   },
   "outputs": [
    {
     "name": "stdout",
     "output_type": "stream",
     "text": [
      "Fold 1: Accuracy = 1.0000\n",
      "Fold 2: Accuracy = 1.0000\n",
      "Fold 3: Accuracy = 0.9750\n",
      "Fold 4: Accuracy = 1.0000\n",
      "Fold 5: Accuracy = 0.8500\n",
      "Fold 6: Accuracy = 0.9750\n",
      "Fold 7: Accuracy = 1.0000\n",
      "Fold 8: Accuracy = 0.9500\n",
      "Fold 9: Accuracy = 0.8750\n",
      "Fold 10: Accuracy = 1.0000\n",
      "Accuracy for Naive Bayesian: 0.9625\n"
     ]
    }
   ],
   "source": [
    "nb = GaussianNB()\n",
    "\n",
    "# Perform cross-validation with 10 folds\n",
    "scores = cross_val_score(nb, x_selected, y, cv=10)\n",
    "\n",
    "# Print the accuracy for each fold\n",
    "for i, score in enumerate(scores, 1):\n",
    "    print(\"Fold {}: Accuracy = {:.4f}\".format(i, score))\n",
    "\n",
    "# Calculate and print the mean accuracy and standard deviation of the cross-validation scores\n",
    "mean_accuracy = scores.mean()\n",
    "\n",
    "# Print the results\n",
    "print(\"Accuracy for Naive Bayesian: %0.4f\" % (mean_accuracy))\n"
   ]
  },
  {
   "cell_type": "markdown",
   "id": "HYjQ0pJje9sh",
   "metadata": {
    "id": "HYjQ0pJje9sh"
   },
   "source": [
    "## Logistic Regression"
   ]
  },
  {
   "cell_type": "code",
   "execution_count": null,
   "id": "_UIMmvd4fDRP",
   "metadata": {
    "colab": {
     "base_uri": "https://localhost:8080/"
    },
    "id": "_UIMmvd4fDRP",
    "outputId": "ce47e7d5-acf4-4105-9c9c-f9cc2fcba574"
   },
   "outputs": [
    {
     "name": "stdout",
     "output_type": "stream",
     "text": [
      "Fold 1: Accuracy = 0.9750\n",
      "Fold 2: Accuracy = 0.9750\n",
      "Fold 3: Accuracy = 0.9500\n",
      "Fold 4: Accuracy = 1.0000\n",
      "Fold 5: Accuracy = 0.9500\n",
      "Fold 6: Accuracy = 0.9750\n",
      "Fold 7: Accuracy = 1.0000\n",
      "Fold 8: Accuracy = 1.0000\n",
      "Fold 9: Accuracy = 0.9500\n",
      "Fold 10: Accuracy = 1.0000\n",
      "Accuracy for Logistic Regression: 0.9775\n"
     ]
    }
   ],
   "source": [
    "lr = LogisticRegression(max_iter = 5000, random_state=42)\n",
    "\n",
    "# Perform cross-validation with 10 folds\n",
    "scores = cross_val_score(lr, x_selected, y, cv=10)\n",
    "\n",
    "# Print the accuracy for each fold\n",
    "for i, score in enumerate(scores, 1):\n",
    "    print(\"Fold {}: Accuracy = {:.4f}\".format(i, score))\n",
    "\n",
    "# Calculate and print the mean accuracy and standard deviation of the cross-validation scores\n",
    "mean_accuracy = scores.mean()\n",
    "\n",
    "# Print the results\n",
    "print(\"Accuracy for Logistic Regression: %0.4f\" % (mean_accuracy))\n"
   ]
  },
  {
   "cell_type": "markdown",
   "id": "rEaNzG8ZrID9",
   "metadata": {
    "id": "rEaNzG8ZrID9"
   },
   "source": [
    "## Graph"
   ]
  },
  {
   "cell_type": "code",
   "execution_count": null,
   "id": "GyZEtQOarJ9_",
   "metadata": {
    "colab": {
     "base_uri": "https://localhost:8080/",
     "height": 410
    },
    "id": "GyZEtQOarJ9_",
    "outputId": "c893ed4c-030e-4ca2-fc84-340e88b5d43f"
   },
   "outputs": [
    {
     "data": {
      "image/png": "[encoded data removed]",
      "text/plain": [
       "<Figure size 600x400 with 1 Axes>"
      ]
     },
     "metadata": {},
     "output_type": "display_data"
    }
   ],
   "source": [
    "model_names = ['KNN', 'Naive Bayesian', 'Logistic Regression']\n",
    "accuracies = [0.8775, 0.9625, 0.9775]\n",
    "\n",
    "colors = [(0.3, 0.5, 0.8, 0.7), (0.4, 0.7, 0.4, 0.7), (0.9, 0.6, 0.2, 0.7)]\n",
    "plt.figure(figsize=(6, 4))\n",
    "\n",
    "# Create the bar graph\n",
    "plt.bar(model_names, accuracies, color = colors, width = 0.5)\n",
    "\n",
    "# Add labels and title\n",
    "plt.xlabel('Models')\n",
    "plt.ylabel('Accuracy')\n",
    "plt.title('Boruta Feature Selection')\n",
    "\n",
    "# Display the graph\n",
    "plt.show()"
   ]
  },
  {
   "cell_type": "markdown",
   "id": "db1baee1-4fc3-4e40-8317-d0bc6912cfe6",
   "metadata": {
    "id": "db1baee1-4fc3-4e40-8317-d0bc6912cfe6",
    "tags": []
   },
   "source": [
    "# RANDOM FOREST FEATURE SELECTION"
   ]
  },
  {
   "cell_type": "code",
   "execution_count": null,
   "id": "456d2a73-1f6b-46ef-bbb3-8d8f6d7c7e36",
   "metadata": {
    "colab": {
     "base_uri": "https://localhost:8080/"
    },
    "id": "456d2a73-1f6b-46ef-bbb3-8d8f6d7c7e36",
    "outputId": "fd51eaa5-5b3c-4bfc-b246-d8f6ac890d21",
    "tags": []
   },
   "outputs": [
    {
     "name": "stdout",
     "output_type": "stream",
     "text": [
      "('hemo', 0.2171136782845692)\n",
      "('pcv', 0.14926061253706333)\n",
      "('sg', 0.11813037454638083)\n",
      "('sc', 0.11433360697608204)\n",
      "('rc', 0.10986951829010773)\n",
      "('al', 0.05651810778394792)\n",
      "('bgr', 0.04741178649275379)\n",
      "('htn', 0.0465266959683689)\n",
      "('dm', 0.03679111191150851)\n",
      "('bu', 0.02161921119753167)\n",
      "('sod', 0.016866643650787813)\n",
      "('appet', 0.011284387151993694)\n",
      "('age', 0.010509590021062488)\n",
      "('wc', 0.009331974543223279)\n",
      "('bp', 0.007147158987673393)\n",
      "('pe', 0.0059291603609054454)\n",
      "('pc', 0.00545494295110245)\n",
      "('su', 0.004535614534637299)\n",
      "('pot', 0.004386325416323913)\n",
      "('rbc', 0.0038048707067333425)\n",
      "('ane', 0.001359237077084799)\n",
      "('pcc', 0.0008542462025414691)\n",
      "('ba', 0.0007191700502238952)\n",
      "('cad', 0.00024197435739271834)\n",
      "Selected features: \n",
      "hemo\n",
      "pcv\n",
      "sg\n",
      "sc\n",
      "rc\n",
      "al\n",
      "bgr\n",
      "htn\n"
     ]
    }
   ],
   "source": [
    "X = ckd.drop('classification', axis=1)\n",
    "y = ckd['classification']\n",
    "\n",
    "# Use random forest to select the most important features\n",
    "rfc = RandomForestClassifier(n_estimators=100)\n",
    "rfc.fit(X, y)\n",
    "importance = rfc.feature_importances_\n",
    "# Create a list of (feature name, importance) tuples and sort by importance\n",
    "features = list(zip(X.columns, importance))\n",
    "features.sort(key=lambda x: x[1], reverse=True)\n",
    "\n",
    "# Print the sorted list of feature importances\n",
    "for f in features:\n",
    "    print(f)\n",
    "\n",
    "\n",
    "# Select the top k features\n",
    "k = 8\n",
    "top_features = [f[0] for f in features[:k]]\n",
    "print(\"Selected features: \")\n",
    "for f in top_features:\n",
    "    print(f)\n",
    "X = X[top_features]"
   ]
  },
  {
   "cell_type": "markdown",
   "id": "eyq0mN_fU1rI",
   "metadata": {
    "id": "eyq0mN_fU1rI"
   },
   "source": [
    "##K - NN"
   ]
  },
  {
   "cell_type": "code",
   "execution_count": null,
   "id": "d2351069-d0eb-4cbe-8602-b52a1534381a",
   "metadata": {
    "colab": {
     "base_uri": "https://localhost:8080/"
    },
    "id": "d2351069-d0eb-4cbe-8602-b52a1534381a",
    "outputId": "4cbf20a2-30c7-420d-9b1f-cfb3e56fab6d",
    "tags": []
   },
   "outputs": [
    {
     "name": "stdout",
     "output_type": "stream",
     "text": [
      "Accuracy- K-NN classifier: 0.9475 (+/- 0.0687)\n"
     ]
    }
   ],
   "source": [
    "# Train and evaluate the model using KFold\n",
    "kf = KFold(n_splits=10, shuffle=True, random_state=42)\n",
    "accuracy_scores = []\n",
    "y_preds=[]\n",
    "y_tests=[]\n",
    "for train_index, test_index in kf.split(X):\n",
    "    # Split data into train and test sets for this fold\n",
    "    X_train, X_test = X.iloc[train_index], X.iloc[test_index]\n",
    "    y_train, y_test = y.iloc[train_index], y.iloc[test_index]\n",
    "\n",
    "    # Create and train the random forest classifier\n",
    "    knn = KNeighborsClassifier(n_neighbors=5)\n",
    "    knn.fit(X_train, y_train)\n",
    "\n",
    "    # Make predictions on the test set and calculate accuracy\n",
    "    y_pred = knn.predict(X_test)\n",
    "    y_preds.extend(y_pred)\n",
    "    y_tests.extend(y_test)\n",
    "    accuracy = accuracy_score(y_test, y_pred)\n",
    "\n",
    "    # Add accuracy score to list\n",
    "    accuracy_scores.append(accuracy)\n",
    "\n",
    "# Compute and print the mean accuracy score and standard deviation\n",
    "print(\"Accuracy- K-NN classifier: %0.4f (+/- %0.4f)\" % (np.mean(accuracy_scores), np.std(accuracy_scores) * 2))"
   ]
  },
  {
   "cell_type": "markdown",
   "id": "_YeGL4hHVArT",
   "metadata": {
    "id": "_YeGL4hHVArT"
   },
   "source": [
    "## Naive Bayesian"
   ]
  },
  {
   "cell_type": "code",
   "execution_count": null,
   "id": "4EsxZXJQVD7s",
   "metadata": {
    "colab": {
     "base_uri": "https://localhost:8080/"
    },
    "id": "4EsxZXJQVD7s",
    "outputId": "f31e8432-b585-47a4-9e1a-5988e0dfa7f8"
   },
   "outputs": [
    {
     "name": "stdout",
     "output_type": "stream",
     "text": [
      "Accuracy Naive Bayesian classifier: 0.9375 (+/- 0.07)\n"
     ]
    }
   ],
   "source": [
    "# Train and evaluate the model using KFold\n",
    "kf = KFold(n_splits=10, shuffle=True, random_state=42)\n",
    "accuracy_scores = []\n",
    "y_preds=[]\n",
    "y_tests=[]\n",
    "for train_index, test_index in kf.split(X):\n",
    "    # Split data into train and test sets for this fold\n",
    "    X_train, X_test = X.iloc[train_index], X.iloc[test_index]\n",
    "    y_train, y_test = y.iloc[train_index], y.iloc[test_index]\n",
    "\n",
    "    nb = GaussianNB()\n",
    "    nb.fit(X_train, y_train)\n",
    "\n",
    "    # Make predictions on the test set and calculate accuracy\n",
    "    y_pred = nb.predict(X_test)\n",
    "    y_preds.extend(y_pred)\n",
    "    y_tests.extend(y_test)\n",
    "    accuracy = accuracy_score(y_test, y_pred)\n",
    "\n",
    "    # Add accuracy score to list\n",
    "    accuracy_scores.append(accuracy)\n",
    "\n",
    "# Compute and print the mean accuracy score and standard deviation\n",
    "print(\"Accuracy Naive Bayesian classifier: %0.4f (+/- %0.2f)\" % (np.mean(accuracy_scores), np.std(accuracy_scores) * 2))"
   ]
  },
  {
   "cell_type": "markdown",
   "id": "5e219b71-8888-47e7-92be-415900f116c4",
   "metadata": {
    "id": "5e219b71-8888-47e7-92be-415900f116c4"
   },
   "source": [
    "## LOGISTIC REGRESSION"
   ]
  },
  {
   "cell_type": "code",
   "execution_count": null,
   "id": "7ee6fc47-cf0c-4827-94d3-7cbd848d2362",
   "metadata": {
    "colab": {
     "base_uri": "https://localhost:8080/"
    },
    "id": "7ee6fc47-cf0c-4827-94d3-7cbd848d2362",
    "outputId": "1339e54a-d680-4bb9-d070-e5c7fe7b54cb"
   },
   "outputs": [
    {
     "name": "stdout",
     "output_type": "stream",
     "text": [
      "------------Accuracy- Logistic Regression: 0.9750 (+/- 0.04)----------\n"
     ]
    }
   ],
   "source": [
    "# Perform 10-fold cross validation using KFold method\n",
    "kf = KFold(n_splits=10, shuffle=True, random_state=42)\n",
    "lr = LogisticRegression(C=1, max_iter = 5000)\n",
    "scores = []\n",
    "y_preds = []\n",
    "y_true = []\n",
    "for train_index, test_index in kf.split(X):\n",
    "    X_train, X_test = X.iloc[train_index], X.iloc[test_index]\n",
    "    y_train, y_test = y.iloc[train_index], y.iloc[test_index]\n",
    "\n",
    "    lr.fit(X_train, y_train)\n",
    "\n",
    "    y_pred = lr.predict(X_test)\n",
    "    y_preds.extend(y_pred)\n",
    "    y_true.extend(y_test)\n",
    "    scores.append(lr.score(X_test, y_test))\n",
    "\n",
    "\n",
    "# Calculate and print the cross-validation accuracy\n",
    "print(\"Accuracy- Logistic Regression: %0.4f (+/- %0.2f)\" % (np.mean(scores), np.std(scores) * 2))"
   ]
  },
  {
   "cell_type": "markdown",
   "id": "hUH5Yk0ey32t",
   "metadata": {
    "id": "hUH5Yk0ey32t"
   },
   "source": [
    "##Graph"
   ]
  },
  {
   "cell_type": "code",
   "execution_count": null,
   "id": "ycuQRFn7ybfb",
   "metadata": {
    "colab": {
     "base_uri": "https://localhost:8080/",
     "height": 410
    },
    "id": "ycuQRFn7ybfb",
    "outputId": "d06dda04-93f2-40c0-ef08-c494b013c1e5"
   },
   "outputs": [
    {
     "data": {
      "image/png": "[encoded data removed]",
      "text/plain": [
       "<Figure size 600x400 with 1 Axes>"
      ]
     },
     "metadata": {},
     "output_type": "display_data"
    }
   ],
   "source": [
    "model_names = ['KNN', 'Naive Bayesian', 'Logistic Regression']\n",
    "accuracies = [0.9475, 0.9375, 0.9750]\n",
    "\n",
    "colors = [(0.3, 0.5, 0.8, 0.7), (0.4, 0.7, 0.4, 0.7), (0.9, 0.6, 0.2, 0.7)]\n",
    "plt.figure(figsize=(6, 4))\n",
    "\n",
    "# Create the bar graph\n",
    "plt.bar(model_names, accuracies, color = colors, width=0.5)\n",
    "\n",
    "# Add labels and title\n",
    "plt.xlabel('Models')\n",
    "plt.ylabel('Accuracy')\n",
    "plt.title('Random Forest Feature Selection')\n",
    "\n",
    "# Display the graph\n",
    "plt.show()"
   ]
  }
 ],
 "metadata": {
  "colab": {
   "collapsed_sections": [
    "_EjHekF-PY-6",
    "N4mnafDrtr-l",
    "17fd3d6a-849b-41f2-b073-d7b6401b8f95",
    "b83e2784-1f3a-43ad-a255-1a2f058cb839",
    "06f3339d-b194-4886-8b67-04ecad43b8d6",
    "bbfc25bf-d912-4656-be16-468eadaf698e",
    "GMzchUEYF657",
    "3hVegnejpD1l",
    "VTMQT0TxWsXk",
    "6cc09632-bcbb-4c58-97f1-e05ae2380ee7"
   ],
   "provenance": [],
   "toc_visible": true
  },
  "kernelspec": {
   "display_name": "Python 3 (ipykernel)",
   "language": "python",
   "name": "python3"
  },
  "language_info": {
   "codemirror_mode": {
    "name": "ipython",
    "version": 3
   },
   "file_extension": ".py",
   "mimetype": "text/x-python",
   "name": "python",
   "nbconvert_exporter": "python",
   "pygments_lexer": "ipython3",
   "version": "3.11.0"
  }
 },
 "nbformat": 4,
 "nbformat_minor": 5
}
